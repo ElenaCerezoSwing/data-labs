{
 "cells": [
  {
   "cell_type": "markdown",
   "metadata": {},
   "source": [
    "# Ecological footprint\n",
    "\n"
   ]
  },
  {
   "cell_type": "markdown",
   "metadata": {},
   "source": [
    "\n"
   ]
  },
  {
   "cell_type": "code",
   "execution_count": 28,
   "metadata": {},
   "outputs": [
    {
     "data": {
      "text/html": [
       "<div>\n",
       "<style scoped>\n",
       "    .dataframe tbody tr th:only-of-type {\n",
       "        vertical-align: middle;\n",
       "    }\n",
       "\n",
       "    .dataframe tbody tr th {\n",
       "        vertical-align: top;\n",
       "    }\n",
       "\n",
       "    .dataframe thead th {\n",
       "        text-align: right;\n",
       "    }\n",
       "</style>\n",
       "<table border=\"1\" class=\"dataframe\">\n",
       "  <thead>\n",
       "    <tr style=\"text-align: right;\">\n",
       "      <th></th>\n",
       "      <th>Unnamed: 0</th>\n",
       "      <th>builtupLand</th>\n",
       "      <th>carbon</th>\n",
       "      <th>countryCode</th>\n",
       "      <th>countryName</th>\n",
       "      <th>cropLand</th>\n",
       "      <th>fishingGround</th>\n",
       "      <th>forestLand</th>\n",
       "      <th>grazingLand</th>\n",
       "      <th>id</th>\n",
       "      <th>isoa2</th>\n",
       "      <th>record</th>\n",
       "      <th>score</th>\n",
       "      <th>shortName</th>\n",
       "      <th>value</th>\n",
       "      <th>version</th>\n",
       "      <th>year</th>\n",
       "    </tr>\n",
       "  </thead>\n",
       "  <tbody>\n",
       "    <tr>\n",
       "      <th>864</th>\n",
       "      <td>864</td>\n",
       "      <td>NaN</td>\n",
       "      <td>NaN</td>\n",
       "      <td>203</td>\n",
       "      <td>Spain</td>\n",
       "      <td>NaN</td>\n",
       "      <td>NaN</td>\n",
       "      <td>NaN</td>\n",
       "      <td>NaN</td>\n",
       "      <td>128894</td>\n",
       "      <td>ES</td>\n",
       "      <td>Population</td>\n",
       "      <td>NaN</td>\n",
       "      <td>Spain</td>\n",
       "      <td>46857400.0</td>\n",
       "      <td>NaN</td>\n",
       "      <td>2012</td>\n",
       "    </tr>\n",
       "    <tr>\n",
       "      <th>865</th>\n",
       "      <td>865</td>\n",
       "      <td>NaN</td>\n",
       "      <td>NaN</td>\n",
       "      <td>203</td>\n",
       "      <td>Spain</td>\n",
       "      <td>NaN</td>\n",
       "      <td>NaN</td>\n",
       "      <td>NaN</td>\n",
       "      <td>NaN</td>\n",
       "      <td>128895</td>\n",
       "      <td>ES</td>\n",
       "      <td>Population</td>\n",
       "      <td>NaN</td>\n",
       "      <td>Spain</td>\n",
       "      <td>46697556.0</td>\n",
       "      <td>NaN</td>\n",
       "      <td>2013</td>\n",
       "    </tr>\n",
       "    <tr>\n",
       "      <th>866</th>\n",
       "      <td>866</td>\n",
       "      <td>NaN</td>\n",
       "      <td>NaN</td>\n",
       "      <td>203</td>\n",
       "      <td>Spain</td>\n",
       "      <td>NaN</td>\n",
       "      <td>NaN</td>\n",
       "      <td>NaN</td>\n",
       "      <td>NaN</td>\n",
       "      <td>128896</td>\n",
       "      <td>ES</td>\n",
       "      <td>Population</td>\n",
       "      <td>NaN</td>\n",
       "      <td>Spain</td>\n",
       "      <td>46521828.0</td>\n",
       "      <td>NaN</td>\n",
       "      <td>2014</td>\n",
       "    </tr>\n",
       "    <tr>\n",
       "      <th>867</th>\n",
       "      <td>867</td>\n",
       "      <td>NaN</td>\n",
       "      <td>NaN</td>\n",
       "      <td>203</td>\n",
       "      <td>Spain</td>\n",
       "      <td>NaN</td>\n",
       "      <td>NaN</td>\n",
       "      <td>NaN</td>\n",
       "      <td>NaN</td>\n",
       "      <td>128897</td>\n",
       "      <td>ES</td>\n",
       "      <td>Population</td>\n",
       "      <td>NaN</td>\n",
       "      <td>Spain</td>\n",
       "      <td>46397664.0</td>\n",
       "      <td>NaN</td>\n",
       "      <td>2015</td>\n",
       "    </tr>\n",
       "    <tr>\n",
       "      <th>868</th>\n",
       "      <td>868</td>\n",
       "      <td>NaN</td>\n",
       "      <td>NaN</td>\n",
       "      <td>203</td>\n",
       "      <td>Spain</td>\n",
       "      <td>NaN</td>\n",
       "      <td>NaN</td>\n",
       "      <td>NaN</td>\n",
       "      <td>NaN</td>\n",
       "      <td>128898</td>\n",
       "      <td>ES</td>\n",
       "      <td>Population</td>\n",
       "      <td>NaN</td>\n",
       "      <td>Spain</td>\n",
       "      <td>46347576.0</td>\n",
       "      <td>NaN</td>\n",
       "      <td>2016</td>\n",
       "    </tr>\n",
       "  </tbody>\n",
       "</table>\n",
       "</div>"
      ],
      "text/plain": [
       "     Unnamed: 0  builtupLand  carbon  countryCode countryName  cropLand  \\\n",
       "864         864          NaN     NaN          203       Spain       NaN   \n",
       "865         865          NaN     NaN          203       Spain       NaN   \n",
       "866         866          NaN     NaN          203       Spain       NaN   \n",
       "867         867          NaN     NaN          203       Spain       NaN   \n",
       "868         868          NaN     NaN          203       Spain       NaN   \n",
       "\n",
       "     fishingGround  forestLand  grazingLand      id isoa2      record score  \\\n",
       "864            NaN         NaN          NaN  128894    ES  Population   NaN   \n",
       "865            NaN         NaN          NaN  128895    ES  Population   NaN   \n",
       "866            NaN         NaN          NaN  128896    ES  Population   NaN   \n",
       "867            NaN         NaN          NaN  128897    ES  Population   NaN   \n",
       "868            NaN         NaN          NaN  128898    ES  Population   NaN   \n",
       "\n",
       "    shortName       value  version  year  \n",
       "864     Spain  46857400.0      NaN  2012  \n",
       "865     Spain  46697556.0      NaN  2013  \n",
       "866     Spain  46521828.0      NaN  2014  \n",
       "867     Spain  46397664.0      NaN  2015  \n",
       "868     Spain  46347576.0      NaN  2016  "
      ]
     },
     "execution_count": 28,
     "metadata": {},
     "output_type": "execute_result"
    }
   ],
   "source": [
    "import pandas as pd\n",
    "import matplotlib.pyplot as plt\n",
    "from pylab import * \n",
    "\n",
    "df = pd.read_csv('spain_all_data.csv')\n",
    "df.tail()"
   ]
  },
  {
   "cell_type": "code",
   "execution_count": 4,
   "metadata": {},
   "outputs": [
    {
     "data": {
      "text/plain": [
       "Unnamed: 0       869\n",
       "builtupLand      728\n",
       "carbon           728\n",
       "countryCode      869\n",
       "countryName      869\n",
       "cropLand         728\n",
       "fishingGround    728\n",
       "forestLand       728\n",
       "grazingLand      728\n",
       "id               869\n",
       "isoa2            869\n",
       "record           869\n",
       "score            728\n",
       "shortName        869\n",
       "value            869\n",
       "version            0\n",
       "year             869\n",
       "dtype: int64"
      ]
     },
     "execution_count": 4,
     "metadata": {},
     "output_type": "execute_result"
    }
   ],
   "source": [
    "df.count()"
   ]
  },
  {
   "cell_type": "code",
   "execution_count": 5,
   "metadata": {},
   "outputs": [
    {
     "data": {
      "text/plain": [
       "Unnamed: 0         0\n",
       "builtupLand      141\n",
       "carbon           141\n",
       "countryCode        0\n",
       "countryName        0\n",
       "cropLand         141\n",
       "fishingGround    141\n",
       "forestLand       141\n",
       "grazingLand      141\n",
       "id                 0\n",
       "isoa2              0\n",
       "record             0\n",
       "score            141\n",
       "shortName          0\n",
       "value              0\n",
       "version          869\n",
       "year               0\n",
       "dtype: int64"
      ]
     },
     "execution_count": 5,
     "metadata": {},
     "output_type": "execute_result"
    }
   ],
   "source": [
    "df.isnull().sum()"
   ]
  },
  {
   "cell_type": "markdown",
   "metadata": {},
   "source": [
    "Hacemos una copia del dataframe correspondiente a los valores recopilados para España\n"
   ]
  },
  {
   "cell_type": "code",
   "execution_count": 6,
   "metadata": {},
   "outputs": [],
   "source": [
    "spain2 = df.copy()\n"
   ]
  },
  {
   "cell_type": "markdown",
   "metadata": {},
   "source": [
    "Eliminamos la columna 'version'"
   ]
  },
  {
   "cell_type": "code",
   "execution_count": 7,
   "metadata": {},
   "outputs": [],
   "source": [
    "spain2.drop(['version', 'Unnamed: 0'], axis=1, inplace=True)"
   ]
  },
  {
   "cell_type": "markdown",
   "metadata": {},
   "source": [
    "Eliminamos los índices nulos"
   ]
  },
  {
   "cell_type": "code",
   "execution_count": 8,
   "metadata": {},
   "outputs": [],
   "source": [
    "spain2 = spain2.drop(spain2[(spain2['builtupLand'].isnull()) |\n",
    "                      (spain2['carbon'].isnull()) | \n",
    "                      (spain2['cropLand'].isnull()) | \n",
    "                      (spain2['fishingGround'].isnull())|\n",
    "                      (spain2['forestLand'].isnull())| \n",
    "                      (spain2['grazingLand'].isnull())|\n",
    "                      (spain2['score'].isnull())].index)"
   ]
  },
  {
   "cell_type": "code",
   "execution_count": 9,
   "metadata": {},
   "outputs": [
    {
     "data": {
      "text/plain": [
       "builtupLand      728\n",
       "carbon           728\n",
       "countryCode      728\n",
       "countryName      728\n",
       "cropLand         728\n",
       "fishingGround    728\n",
       "forestLand       728\n",
       "grazingLand      728\n",
       "id               728\n",
       "isoa2            728\n",
       "record           728\n",
       "score            728\n",
       "shortName        728\n",
       "value            728\n",
       "year             728\n",
       "dtype: int64"
      ]
     },
     "execution_count": 9,
     "metadata": {},
     "output_type": "execute_result"
    }
   ],
   "source": [
    "spain2.count()"
   ]
  },
  {
   "cell_type": "code",
   "execution_count": 21,
   "metadata": {},
   "outputs": [
    {
     "data": {
      "text/html": [
       "<div>\n",
       "<style scoped>\n",
       "    .dataframe tbody tr th:only-of-type {\n",
       "        vertical-align: middle;\n",
       "    }\n",
       "\n",
       "    .dataframe tbody tr th {\n",
       "        vertical-align: top;\n",
       "    }\n",
       "\n",
       "    .dataframe thead th {\n",
       "        text-align: right;\n",
       "    }\n",
       "</style>\n",
       "<table border=\"1\" class=\"dataframe\">\n",
       "  <thead>\n",
       "    <tr style=\"text-align: right;\">\n",
       "      <th></th>\n",
       "      <th>Unnamed: 0</th>\n",
       "      <th>builtupLand</th>\n",
       "      <th>carbon</th>\n",
       "      <th>countryCode</th>\n",
       "      <th>countryName</th>\n",
       "      <th>cropLand</th>\n",
       "      <th>fishingGround</th>\n",
       "      <th>forestLand</th>\n",
       "      <th>grazingLand</th>\n",
       "      <th>id</th>\n",
       "      <th>isoa2</th>\n",
       "      <th>record</th>\n",
       "      <th>score</th>\n",
       "      <th>shortName</th>\n",
       "      <th>value</th>\n",
       "      <th>year</th>\n",
       "    </tr>\n",
       "  </thead>\n",
       "  <tbody>\n",
       "    <tr>\n",
       "      <th>0</th>\n",
       "      <td>0</td>\n",
       "      <td>0.018509</td>\n",
       "      <td>0.0</td>\n",
       "      <td>203</td>\n",
       "      <td>Spain</td>\n",
       "      <td>0.741322</td>\n",
       "      <td>0.242950</td>\n",
       "      <td>0.364454</td>\n",
       "      <td>0.378919</td>\n",
       "      <td>86725</td>\n",
       "      <td>ES</td>\n",
       "      <td>AreaPerCap</td>\n",
       "      <td>3A</td>\n",
       "      <td>Spain</td>\n",
       "      <td>1.746155</td>\n",
       "      <td>1961</td>\n",
       "    </tr>\n",
       "    <tr>\n",
       "      <th>1</th>\n",
       "      <td>1</td>\n",
       "      <td>0.018509</td>\n",
       "      <td>0.0</td>\n",
       "      <td>203</td>\n",
       "      <td>Spain</td>\n",
       "      <td>0.736760</td>\n",
       "      <td>0.240241</td>\n",
       "      <td>0.363184</td>\n",
       "      <td>0.372112</td>\n",
       "      <td>86737</td>\n",
       "      <td>ES</td>\n",
       "      <td>AreaPerCap</td>\n",
       "      <td>3A</td>\n",
       "      <td>Spain</td>\n",
       "      <td>1.730807</td>\n",
       "      <td>1962</td>\n",
       "    </tr>\n",
       "    <tr>\n",
       "      <th>2</th>\n",
       "      <td>2</td>\n",
       "      <td>0.018509</td>\n",
       "      <td>0.0</td>\n",
       "      <td>203</td>\n",
       "      <td>Spain</td>\n",
       "      <td>0.728842</td>\n",
       "      <td>0.237503</td>\n",
       "      <td>0.364569</td>\n",
       "      <td>0.364997</td>\n",
       "      <td>86749</td>\n",
       "      <td>ES</td>\n",
       "      <td>AreaPerCap</td>\n",
       "      <td>3A</td>\n",
       "      <td>Spain</td>\n",
       "      <td>1.714420</td>\n",
       "      <td>1963</td>\n",
       "    </tr>\n",
       "    <tr>\n",
       "      <th>3</th>\n",
       "      <td>3</td>\n",
       "      <td>0.018509</td>\n",
       "      <td>0.0</td>\n",
       "      <td>203</td>\n",
       "      <td>Spain</td>\n",
       "      <td>0.710976</td>\n",
       "      <td>0.234814</td>\n",
       "      <td>0.363172</td>\n",
       "      <td>0.357582</td>\n",
       "      <td>86761</td>\n",
       "      <td>ES</td>\n",
       "      <td>AreaPerCap</td>\n",
       "      <td>3A</td>\n",
       "      <td>Spain</td>\n",
       "      <td>1.685053</td>\n",
       "      <td>1964</td>\n",
       "    </tr>\n",
       "    <tr>\n",
       "      <th>4</th>\n",
       "      <td>4</td>\n",
       "      <td>0.018509</td>\n",
       "      <td>0.0</td>\n",
       "      <td>203</td>\n",
       "      <td>Spain</td>\n",
       "      <td>0.704489</td>\n",
       "      <td>0.232224</td>\n",
       "      <td>0.361867</td>\n",
       "      <td>0.351136</td>\n",
       "      <td>86773</td>\n",
       "      <td>ES</td>\n",
       "      <td>AreaPerCap</td>\n",
       "      <td>3A</td>\n",
       "      <td>Spain</td>\n",
       "      <td>1.668225</td>\n",
       "      <td>1965</td>\n",
       "    </tr>\n",
       "  </tbody>\n",
       "</table>\n",
       "</div>"
      ],
      "text/plain": [
       "   Unnamed: 0  builtupLand  carbon  countryCode countryName  cropLand  \\\n",
       "0           0     0.018509     0.0          203       Spain  0.741322   \n",
       "1           1     0.018509     0.0          203       Spain  0.736760   \n",
       "2           2     0.018509     0.0          203       Spain  0.728842   \n",
       "3           3     0.018509     0.0          203       Spain  0.710976   \n",
       "4           4     0.018509     0.0          203       Spain  0.704489   \n",
       "\n",
       "   fishingGround  forestLand  grazingLand     id isoa2      record score  \\\n",
       "0       0.242950    0.364454     0.378919  86725    ES  AreaPerCap    3A   \n",
       "1       0.240241    0.363184     0.372112  86737    ES  AreaPerCap    3A   \n",
       "2       0.237503    0.364569     0.364997  86749    ES  AreaPerCap    3A   \n",
       "3       0.234814    0.363172     0.357582  86761    ES  AreaPerCap    3A   \n",
       "4       0.232224    0.361867     0.351136  86773    ES  AreaPerCap    3A   \n",
       "\n",
       "  shortName     value  year  \n",
       "0     Spain  1.746155  1961  \n",
       "1     Spain  1.730807  1962  \n",
       "2     Spain  1.714420  1963  \n",
       "3     Spain  1.685053  1964  \n",
       "4     Spain  1.668225  1965  "
      ]
     },
     "execution_count": 21,
     "metadata": {},
     "output_type": "execute_result"
    }
   ],
   "source": [
    "spain2.head()"
   ]
  },
  {
   "cell_type": "code",
   "execution_count": 10,
   "metadata": {},
   "outputs": [
    {
     "data": {
      "text/html": [
       "<div>\n",
       "<style scoped>\n",
       "    .dataframe tbody tr th:only-of-type {\n",
       "        vertical-align: middle;\n",
       "    }\n",
       "\n",
       "    .dataframe tbody tr th {\n",
       "        vertical-align: top;\n",
       "    }\n",
       "\n",
       "    .dataframe thead th {\n",
       "        text-align: right;\n",
       "    }\n",
       "</style>\n",
       "<table border=\"1\" class=\"dataframe\">\n",
       "  <thead>\n",
       "    <tr style=\"text-align: right;\">\n",
       "      <th></th>\n",
       "      <th>builtupLand</th>\n",
       "      <th>carbon</th>\n",
       "      <th>countryCode</th>\n",
       "      <th>cropLand</th>\n",
       "      <th>fishingGround</th>\n",
       "      <th>forestLand</th>\n",
       "      <th>grazingLand</th>\n",
       "      <th>id</th>\n",
       "      <th>value</th>\n",
       "      <th>year</th>\n",
       "    </tr>\n",
       "  </thead>\n",
       "  <tbody>\n",
       "    <tr>\n",
       "      <th>count</th>\n",
       "      <td>7.280000e+02</td>\n",
       "      <td>7.280000e+02</td>\n",
       "      <td>728.0</td>\n",
       "      <td>7.280000e+02</td>\n",
       "      <td>7.280000e+02</td>\n",
       "      <td>7.280000e+02</td>\n",
       "      <td>7.280000e+02</td>\n",
       "      <td>728.000000</td>\n",
       "      <td>7.280000e+02</td>\n",
       "      <td>728.000000</td>\n",
       "    </tr>\n",
       "    <tr>\n",
       "      <th>mean</th>\n",
       "      <td>3.299031e+05</td>\n",
       "      <td>1.801715e+07</td>\n",
       "      <td>203.0</td>\n",
       "      <td>1.159654e+07</td>\n",
       "      <td>4.140711e+06</td>\n",
       "      <td>4.937061e+06</td>\n",
       "      <td>2.603093e+06</td>\n",
       "      <td>92894.269231</td>\n",
       "      <td>4.162446e+07</td>\n",
       "      <td>1988.500000</td>\n",
       "    </tr>\n",
       "    <tr>\n",
       "      <th>std</th>\n",
       "      <td>5.622708e+05</td>\n",
       "      <td>3.451884e+07</td>\n",
       "      <td>0.0</td>\n",
       "      <td>1.520245e+07</td>\n",
       "      <td>5.986761e+06</td>\n",
       "      <td>6.345775e+06</td>\n",
       "      <td>3.444591e+06</td>\n",
       "      <td>20223.523907</td>\n",
       "      <td>5.992147e+07</td>\n",
       "      <td>16.174342</td>\n",
       "    </tr>\n",
       "    <tr>\n",
       "      <th>min</th>\n",
       "      <td>0.000000e+00</td>\n",
       "      <td>0.000000e+00</td>\n",
       "      <td>203.0</td>\n",
       "      <td>2.894913e-02</td>\n",
       "      <td>2.890644e-02</td>\n",
       "      <td>8.278720e-04</td>\n",
       "      <td>3.652263e-03</td>\n",
       "      <td>86725.000000</td>\n",
       "      <td>1.917380e-01</td>\n",
       "      <td>1961.000000</td>\n",
       "    </tr>\n",
       "    <tr>\n",
       "      <th>25%</th>\n",
       "      <td>0.000000e+00</td>\n",
       "      <td>0.000000e+00</td>\n",
       "      <td>203.0</td>\n",
       "      <td>5.923021e-01</td>\n",
       "      <td>1.924222e-01</td>\n",
       "      <td>2.550124e-01</td>\n",
       "      <td>1.165088e-01</td>\n",
       "      <td>86906.750000</td>\n",
       "      <td>1.599070e+00</td>\n",
       "      <td>1974.750000</td>\n",
       "    </tr>\n",
       "    <tr>\n",
       "      <th>50%</th>\n",
       "      <td>2.135638e-02</td>\n",
       "      <td>1.316151e+00</td>\n",
       "      <td>203.0</td>\n",
       "      <td>1.029431e+00</td>\n",
       "      <td>4.529912e-01</td>\n",
       "      <td>3.998708e-01</td>\n",
       "      <td>2.643483e-01</td>\n",
       "      <td>87088.500000</td>\n",
       "      <td>4.294736e+00</td>\n",
       "      <td>1988.500000</td>\n",
       "    </tr>\n",
       "    <tr>\n",
       "      <th>75%</th>\n",
       "      <td>6.452606e+05</td>\n",
       "      <td>1.964758e+07</td>\n",
       "      <td>203.0</td>\n",
       "      <td>2.265700e+07</td>\n",
       "      <td>7.500266e+06</td>\n",
       "      <td>1.077527e+07</td>\n",
       "      <td>5.381522e+06</td>\n",
       "      <td>87270.250000</td>\n",
       "      <td>6.112205e+07</td>\n",
       "      <td>2002.250000</td>\n",
       "    </tr>\n",
       "    <tr>\n",
       "      <th>max</th>\n",
       "      <td>2.218735e+06</td>\n",
       "      <td>1.668954e+08</td>\n",
       "      <td>203.0</td>\n",
       "      <td>5.387368e+07</td>\n",
       "      <td>2.164496e+07</td>\n",
       "      <td>2.526484e+07</td>\n",
       "      <td>1.167738e+07</td>\n",
       "      <td>162927.000000</td>\n",
       "      <td>2.687919e+08</td>\n",
       "      <td>2016.000000</td>\n",
       "    </tr>\n",
       "  </tbody>\n",
       "</table>\n",
       "</div>"
      ],
      "text/plain": [
       "        builtupLand        carbon  countryCode      cropLand  fishingGround  \\\n",
       "count  7.280000e+02  7.280000e+02        728.0  7.280000e+02   7.280000e+02   \n",
       "mean   3.299031e+05  1.801715e+07        203.0  1.159654e+07   4.140711e+06   \n",
       "std    5.622708e+05  3.451884e+07          0.0  1.520245e+07   5.986761e+06   \n",
       "min    0.000000e+00  0.000000e+00        203.0  2.894913e-02   2.890644e-02   \n",
       "25%    0.000000e+00  0.000000e+00        203.0  5.923021e-01   1.924222e-01   \n",
       "50%    2.135638e-02  1.316151e+00        203.0  1.029431e+00   4.529912e-01   \n",
       "75%    6.452606e+05  1.964758e+07        203.0  2.265700e+07   7.500266e+06   \n",
       "max    2.218735e+06  1.668954e+08        203.0  5.387368e+07   2.164496e+07   \n",
       "\n",
       "         forestLand   grazingLand             id         value         year  \n",
       "count  7.280000e+02  7.280000e+02     728.000000  7.280000e+02   728.000000  \n",
       "mean   4.937061e+06  2.603093e+06   92894.269231  4.162446e+07  1988.500000  \n",
       "std    6.345775e+06  3.444591e+06   20223.523907  5.992147e+07    16.174342  \n",
       "min    8.278720e-04  3.652263e-03   86725.000000  1.917380e-01  1961.000000  \n",
       "25%    2.550124e-01  1.165088e-01   86906.750000  1.599070e+00  1974.750000  \n",
       "50%    3.998708e-01  2.643483e-01   87088.500000  4.294736e+00  1988.500000  \n",
       "75%    1.077527e+07  5.381522e+06   87270.250000  6.112205e+07  2002.250000  \n",
       "max    2.526484e+07  1.167738e+07  162927.000000  2.687919e+08  2016.000000  "
      ]
     },
     "execution_count": 10,
     "metadata": {},
     "output_type": "execute_result"
    }
   ],
   "source": [
    "spain2.describe()"
   ]
  },
  {
   "cell_type": "markdown",
   "metadata": {},
   "source": [
    "Visualicemos :)\n"
   ]
  },
  {
   "cell_type": "code",
   "execution_count": 67,
   "metadata": {},
   "outputs": [
    {
     "data": {
      "image/png": "[encoded data removed]",
      "text/plain": [
       "<Figure size 432x288 with 1 Axes>"
      ]
     },
     "metadata": {
      "needs_background": "light"
     },
     "output_type": "display_data"
    }
   ],
   "source": [
    "#fig = plt.figure(figsize=(20, 10))\n",
    "#for type_land in ['builtupLand', 'cropLand', 'fishingGround', 'forestLand', 'grazingLand']:\n",
    "    #plot(spain2['year'], spain2[type_land])\n",
    "\n",
    "#plt.legend(('builtupLand', 'cropLand', 'fishingGround', 'forestLand', 'grazingLand'))\n",
    "#plt.show()\n",
    "\n",
    "#plot(spain2['year'], spain2['fishingGround'])\n",
    "\n",
    "#p1, p2, p3, p4, p5 = plot(spain2['year'], spain2['builtupLand'],\n",
    "                  #spain2['year'], spain2['cropLand'],\n",
    "                  #spain2['year'], spain2['fishingGround'],\n",
    "                  #spain2['year'], spain2['forestLand'],\n",
    "                  #spain2['year'], spain2['grazingLand'])\n",
    "                  \n",
    "\n",
    "# Añado leyenda, tamaño de letra 10, en esquina superior derecha\n",
    "#legend(('builtupLand', 'cropLand', 'fishingGround', 'forestLand', 'grazingLand'),\n",
    "#prop = {'size':8}, loc = 'upper right')\n",
    "\n",
    "#xlabel('Años')\n",
    "#ylabel('HA')\n",
    "#title('Representacion de tipos de aprovechamiento de suelo')\n",
    "\n",
    "# Creo una figura (ventana), pero indico el tamaño (x,y) en pulgadas\n",
    "#figure(figsize=(560, 100))\n",
    "builtupLand = spain2['builtupLand'][:56]\n",
    "cropLand = spain2['cropLand'][:56]\n",
    "fishingGround = spain2['fishingGround'][:56]\n",
    "forestLand = spain2['forestLand'][:56]\n",
    "grazingLand = spain2['grazingLand'][:56]\n",
    "x = spain2['year'][:56]\n",
    "\n",
    "fig, ax = plt.subplots()\n",
    "ax.plot(x, builtupLand, label=\"builtupLand\")\n",
    "ax.plot(x, cropLand, label=\"cropLand\")\n",
    "ax.plot(x, fishingGround, label=\"fishingGround\")\n",
    "ax.plot(x, forestLand, label=\"forestLand\")\n",
    "ax.plot(x, grazingLand, label=\"grazingLand\")\n",
    "ax.plot()\n",
    "\n",
    "plt.show()\n",
    "\n"
   ]
  },
  {
   "cell_type": "code",
   "execution_count": 44,
   "metadata": {},
   "outputs": [
    {
     "data": {
      "text/plain": [
       "dtype('int64')"
      ]
     },
     "execution_count": 44,
     "metadata": {},
     "output_type": "execute_result"
    }
   ],
   "source": [
    "spain2['year'].dtype"
   ]
  },
  {
   "cell_type": "code",
   "execution_count": 45,
   "metadata": {},
   "outputs": [
    {
     "data": {
      "text/plain": [
       "dtype('float64')"
      ]
     },
     "execution_count": 45,
     "metadata": {},
     "output_type": "execute_result"
    }
   ],
   "source": [
    "spain2['builtupLand'].dtype  "
   ]
  },
  {
   "cell_type": "code",
   "execution_count": 46,
   "metadata": {},
   "outputs": [
    {
     "data": {
      "text/plain": [
       "dtype('float64')"
      ]
     },
     "execution_count": 46,
     "metadata": {},
     "output_type": "execute_result"
    }
   ],
   "source": [
    "spain2['cropLand'].dtype"
   ]
  },
  {
   "cell_type": "code",
   "execution_count": 47,
   "metadata": {},
   "outputs": [
    {
     "data": {
      "text/plain": [
       "dtype('float64')"
      ]
     },
     "execution_count": 47,
     "metadata": {},
     "output_type": "execute_result"
    }
   ],
   "source": [
    "spain2['fishingGround'].dtype"
   ]
  },
  {
   "cell_type": "code",
   "execution_count": 19,
   "metadata": {},
   "outputs": [
    {
     "data": {
      "text/plain": [
       "dtype('float64')"
      ]
     },
     "execution_count": 19,
     "metadata": {},
     "output_type": "execute_result"
    }
   ],
   "source": [
    "spain2['forestLand'].dtype"
   ]
  },
  {
   "cell_type": "code",
   "execution_count": 20,
   "metadata": {},
   "outputs": [
    {
     "data": {
      "text/plain": [
       "dtype('float64')"
      ]
     },
     "execution_count": 20,
     "metadata": {},
     "output_type": "execute_result"
    }
   ],
   "source": [
    "spain2['grazingLand'].dtype"
   ]
  },
  {
   "cell_type": "code",
   "execution_count": 66,
   "metadata": {},
   "outputs": [
    {
     "data": {
      "text/plain": [
       "[<matplotlib.lines.Line2D at 0x11247cb70>]"
      ]
     },
     "execution_count": 66,
     "metadata": {},
     "output_type": "execute_result"
    },
    {
     "data": {
      "image/png": "[encoded data removed]",
      "text/plain": [
       "<Figure size 432x288 with 1 Axes>"
      ]
     },
     "metadata": {
      "needs_background": "light"
     },
     "output_type": "display_data"
    }
   ],
   "source": [
    "plt.plot(spain2['year'][:56], spain2['grazingLand'][:56])"
   ]
  },
  {
   "cell_type": "code",
   "execution_count": 52,
   "metadata": {},
   "outputs": [
    {
     "data": {
      "text/plain": [
       "[<matplotlib.lines.Line2D at 0x10e7fe780>]"
      ]
     },
     "execution_count": 52,
     "metadata": {},
     "output_type": "execute_result"
    },
    {
     "data": {
      "image/png": "[encoded data removed]",
      "text/plain": [
       "<Figure size 432x288 with 1 Axes>"
      ]
     },
     "metadata": {
      "needs_background": "light"
     },
     "output_type": "display_data"
    }
   ],
   "source": [
    "plot(spain2['year'])"
   ]
  },
  {
   "cell_type": "code",
   "execution_count": 72,
   "metadata": {},
   "outputs": [
    {
     "data": {
      "image/png": "[encoded data removed]",
      "text/plain": [
       "<Figure size 432x288 with 1 Axes>"
      ]
     },
     "metadata": {
      "needs_background": "light"
     },
     "output_type": "display_data"
    }
   ],
   "source": [
    "builtupLand = spain2['builtupLand'][170: 224]\n",
    "cropLand = spain2['cropLand'][170: 224]\n",
    "fishingGround = spain2['fishingGround'][170: 224]\n",
    "forestLand = spain2['forestLand'][170: 224]\n",
    "grazingLand = spain2['grazingLand'][170: 224]\n",
    "x = spain2['year'][170: 224]\n",
    "\n",
    "fig, ax = plt.subplots()\n",
    "ax.plot(x, builtupLand, label=\"builtupLand\")\n",
    "ax.plot(x, cropLand, label=\"cropLand\")\n",
    "ax.plot(x, fishingGround, label=\"fishingGround\")\n",
    "ax.plot(x, forestLand, label=\"forestLand\")\n",
    "ax.plot(x, grazingLand, label=\"grazingLand\")\n",
    "ax.plot()\n",
    "\n",
    "plt.show()"
   ]
  },
  {
   "cell_type": "code",
   "execution_count": 78,
   "metadata": {},
   "outputs": [
    {
     "data": {
      "text/html": [
       "<div>\n",
       "<style scoped>\n",
       "    .dataframe tbody tr th:only-of-type {\n",
       "        vertical-align: middle;\n",
       "    }\n",
       "\n",
       "    .dataframe tbody tr th {\n",
       "        vertical-align: top;\n",
       "    }\n",
       "\n",
       "    .dataframe thead th {\n",
       "        text-align: right;\n",
       "    }\n",
       "</style>\n",
       "<table border=\"1\" class=\"dataframe\">\n",
       "  <thead>\n",
       "    <tr style=\"text-align: right;\">\n",
       "      <th></th>\n",
       "      <th>builtupLand</th>\n",
       "      <th>carbon</th>\n",
       "      <th>countryCode</th>\n",
       "      <th>countryName</th>\n",
       "      <th>cropLand</th>\n",
       "      <th>fishingGround</th>\n",
       "      <th>forestLand</th>\n",
       "      <th>grazingLand</th>\n",
       "      <th>id</th>\n",
       "      <th>isoa2</th>\n",
       "      <th>record</th>\n",
       "      <th>score</th>\n",
       "      <th>shortName</th>\n",
       "      <th>value</th>\n",
       "      <th>year</th>\n",
       "    </tr>\n",
       "  </thead>\n",
       "  <tbody>\n",
       "    <tr>\n",
       "      <th>0</th>\n",
       "      <td>0.018509</td>\n",
       "      <td>0.0</td>\n",
       "      <td>203</td>\n",
       "      <td>Spain</td>\n",
       "      <td>0.741322</td>\n",
       "      <td>0.242950</td>\n",
       "      <td>0.364454</td>\n",
       "      <td>0.378919</td>\n",
       "      <td>86725</td>\n",
       "      <td>ES</td>\n",
       "      <td>AreaPerCap</td>\n",
       "      <td>3A</td>\n",
       "      <td>Spain</td>\n",
       "      <td>1.746155</td>\n",
       "      <td>1961</td>\n",
       "    </tr>\n",
       "    <tr>\n",
       "      <th>1</th>\n",
       "      <td>0.018509</td>\n",
       "      <td>0.0</td>\n",
       "      <td>203</td>\n",
       "      <td>Spain</td>\n",
       "      <td>0.736760</td>\n",
       "      <td>0.240241</td>\n",
       "      <td>0.363184</td>\n",
       "      <td>0.372112</td>\n",
       "      <td>86737</td>\n",
       "      <td>ES</td>\n",
       "      <td>AreaPerCap</td>\n",
       "      <td>3A</td>\n",
       "      <td>Spain</td>\n",
       "      <td>1.730807</td>\n",
       "      <td>1962</td>\n",
       "    </tr>\n",
       "    <tr>\n",
       "      <th>2</th>\n",
       "      <td>0.018509</td>\n",
       "      <td>0.0</td>\n",
       "      <td>203</td>\n",
       "      <td>Spain</td>\n",
       "      <td>0.728842</td>\n",
       "      <td>0.237503</td>\n",
       "      <td>0.364569</td>\n",
       "      <td>0.364997</td>\n",
       "      <td>86749</td>\n",
       "      <td>ES</td>\n",
       "      <td>AreaPerCap</td>\n",
       "      <td>3A</td>\n",
       "      <td>Spain</td>\n",
       "      <td>1.714420</td>\n",
       "      <td>1963</td>\n",
       "    </tr>\n",
       "    <tr>\n",
       "      <th>3</th>\n",
       "      <td>0.018509</td>\n",
       "      <td>0.0</td>\n",
       "      <td>203</td>\n",
       "      <td>Spain</td>\n",
       "      <td>0.710976</td>\n",
       "      <td>0.234814</td>\n",
       "      <td>0.363172</td>\n",
       "      <td>0.357582</td>\n",
       "      <td>86761</td>\n",
       "      <td>ES</td>\n",
       "      <td>AreaPerCap</td>\n",
       "      <td>3A</td>\n",
       "      <td>Spain</td>\n",
       "      <td>1.685053</td>\n",
       "      <td>1964</td>\n",
       "    </tr>\n",
       "    <tr>\n",
       "      <th>4</th>\n",
       "      <td>0.018509</td>\n",
       "      <td>0.0</td>\n",
       "      <td>203</td>\n",
       "      <td>Spain</td>\n",
       "      <td>0.704489</td>\n",
       "      <td>0.232224</td>\n",
       "      <td>0.361867</td>\n",
       "      <td>0.351136</td>\n",
       "      <td>86773</td>\n",
       "      <td>ES</td>\n",
       "      <td>AreaPerCap</td>\n",
       "      <td>3A</td>\n",
       "      <td>Spain</td>\n",
       "      <td>1.668225</td>\n",
       "      <td>1965</td>\n",
       "    </tr>\n",
       "  </tbody>\n",
       "</table>\n",
       "</div>"
      ],
      "text/plain": [
       "   builtupLand  carbon  countryCode countryName  cropLand  fishingGround  \\\n",
       "0     0.018509     0.0          203       Spain  0.741322       0.242950   \n",
       "1     0.018509     0.0          203       Spain  0.736760       0.240241   \n",
       "2     0.018509     0.0          203       Spain  0.728842       0.237503   \n",
       "3     0.018509     0.0          203       Spain  0.710976       0.234814   \n",
       "4     0.018509     0.0          203       Spain  0.704489       0.232224   \n",
       "\n",
       "   forestLand  grazingLand     id isoa2      record score shortName     value  \\\n",
       "0    0.364454     0.378919  86725    ES  AreaPerCap    3A     Spain  1.746155   \n",
       "1    0.363184     0.372112  86737    ES  AreaPerCap    3A     Spain  1.730807   \n",
       "2    0.364569     0.364997  86749    ES  AreaPerCap    3A     Spain  1.714420   \n",
       "3    0.363172     0.357582  86761    ES  AreaPerCap    3A     Spain  1.685053   \n",
       "4    0.361867     0.351136  86773    ES  AreaPerCap    3A     Spain  1.668225   \n",
       "\n",
       "   year  \n",
       "0  1961  \n",
       "1  1962  \n",
       "2  1963  \n",
       "3  1964  \n",
       "4  1965  "
      ]
     },
     "execution_count": 78,
     "metadata": {},
     "output_type": "execute_result"
    }
   ],
   "source": [
    "spain2.head()\n"
   ]
  },
  {
   "cell_type": "code",
   "execution_count": null,
   "metadata": {},
   "outputs": [],
   "source": []
  }
 ],
 "metadata": {
  "kernelspec": {
   "display_name": "Python 3",
   "language": "python",
   "name": "python3"
  },
  "language_info": {
   "codemirror_mode": {
    "name": "ipython",
    "version": 3
   },
   "file_extension": ".py",
   "mimetype": "text/x-python",
   "name": "python",
   "nbconvert_exporter": "python",
   "pygments_lexer": "ipython3",
   "version": "3.7.3"
  }
 },
 "nbformat": 4,
 "nbformat_minor": 2
}
