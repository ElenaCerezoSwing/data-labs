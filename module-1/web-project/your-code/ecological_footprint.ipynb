{
 "cells": [
  {
   "cell_type": "markdown",
   "metadata": {},
   "source": [
    "# Ecological footprint\n",
    "\n"
   ]
  },
  {
   "cell_type": "markdown",
   "metadata": {},
   "source": [
    "\n"
   ]
  },
  {
   "cell_type": "code",
   "execution_count": 4,
   "metadata": {},
   "outputs": [
    {
     "data": {
      "text/html": [
       "<div>\n",
       "<style scoped>\n",
       "    .dataframe tbody tr th:only-of-type {\n",
       "        vertical-align: middle;\n",
       "    }\n",
       "\n",
       "    .dataframe tbody tr th {\n",
       "        vertical-align: top;\n",
       "    }\n",
       "\n",
       "    .dataframe thead th {\n",
       "        text-align: right;\n",
       "    }\n",
       "</style>\n",
       "<table border=\"1\" class=\"dataframe\">\n",
       "  <thead>\n",
       "    <tr style=\"text-align: right;\">\n",
       "      <th></th>\n",
       "      <th>Unnamed: 0</th>\n",
       "      <th>builtupLand</th>\n",
       "      <th>carbon</th>\n",
       "      <th>countryCode</th>\n",
       "      <th>countryName</th>\n",
       "      <th>cropLand</th>\n",
       "      <th>fishingGround</th>\n",
       "      <th>forestLand</th>\n",
       "      <th>grazingLand</th>\n",
       "      <th>id</th>\n",
       "      <th>isoa2</th>\n",
       "      <th>record</th>\n",
       "      <th>score</th>\n",
       "      <th>shortName</th>\n",
       "      <th>value</th>\n",
       "      <th>version</th>\n",
       "      <th>year</th>\n",
       "    </tr>\n",
       "  </thead>\n",
       "  <tbody>\n",
       "    <tr>\n",
       "      <th>0</th>\n",
       "      <td>0</td>\n",
       "      <td>0.018509</td>\n",
       "      <td>0.0</td>\n",
       "      <td>203</td>\n",
       "      <td>Spain</td>\n",
       "      <td>0.741322</td>\n",
       "      <td>0.242950</td>\n",
       "      <td>0.364454</td>\n",
       "      <td>0.378919</td>\n",
       "      <td>86725</td>\n",
       "      <td>ES</td>\n",
       "      <td>AreaPerCap</td>\n",
       "      <td>3A</td>\n",
       "      <td>Spain</td>\n",
       "      <td>1.746155</td>\n",
       "      <td>NaN</td>\n",
       "      <td>1961</td>\n",
       "    </tr>\n",
       "    <tr>\n",
       "      <th>1</th>\n",
       "      <td>1</td>\n",
       "      <td>0.018509</td>\n",
       "      <td>0.0</td>\n",
       "      <td>203</td>\n",
       "      <td>Spain</td>\n",
       "      <td>0.736760</td>\n",
       "      <td>0.240241</td>\n",
       "      <td>0.363184</td>\n",
       "      <td>0.372112</td>\n",
       "      <td>86737</td>\n",
       "      <td>ES</td>\n",
       "      <td>AreaPerCap</td>\n",
       "      <td>3A</td>\n",
       "      <td>Spain</td>\n",
       "      <td>1.730807</td>\n",
       "      <td>NaN</td>\n",
       "      <td>1962</td>\n",
       "    </tr>\n",
       "    <tr>\n",
       "      <th>2</th>\n",
       "      <td>2</td>\n",
       "      <td>0.018509</td>\n",
       "      <td>0.0</td>\n",
       "      <td>203</td>\n",
       "      <td>Spain</td>\n",
       "      <td>0.728842</td>\n",
       "      <td>0.237503</td>\n",
       "      <td>0.364569</td>\n",
       "      <td>0.364997</td>\n",
       "      <td>86749</td>\n",
       "      <td>ES</td>\n",
       "      <td>AreaPerCap</td>\n",
       "      <td>3A</td>\n",
       "      <td>Spain</td>\n",
       "      <td>1.714420</td>\n",
       "      <td>NaN</td>\n",
       "      <td>1963</td>\n",
       "    </tr>\n",
       "    <tr>\n",
       "      <th>3</th>\n",
       "      <td>3</td>\n",
       "      <td>0.018509</td>\n",
       "      <td>0.0</td>\n",
       "      <td>203</td>\n",
       "      <td>Spain</td>\n",
       "      <td>0.710976</td>\n",
       "      <td>0.234814</td>\n",
       "      <td>0.363172</td>\n",
       "      <td>0.357582</td>\n",
       "      <td>86761</td>\n",
       "      <td>ES</td>\n",
       "      <td>AreaPerCap</td>\n",
       "      <td>3A</td>\n",
       "      <td>Spain</td>\n",
       "      <td>1.685053</td>\n",
       "      <td>NaN</td>\n",
       "      <td>1964</td>\n",
       "    </tr>\n",
       "    <tr>\n",
       "      <th>4</th>\n",
       "      <td>4</td>\n",
       "      <td>0.018509</td>\n",
       "      <td>0.0</td>\n",
       "      <td>203</td>\n",
       "      <td>Spain</td>\n",
       "      <td>0.704489</td>\n",
       "      <td>0.232224</td>\n",
       "      <td>0.361867</td>\n",
       "      <td>0.351136</td>\n",
       "      <td>86773</td>\n",
       "      <td>ES</td>\n",
       "      <td>AreaPerCap</td>\n",
       "      <td>3A</td>\n",
       "      <td>Spain</td>\n",
       "      <td>1.668225</td>\n",
       "      <td>NaN</td>\n",
       "      <td>1965</td>\n",
       "    </tr>\n",
       "  </tbody>\n",
       "</table>\n",
       "</div>"
      ],
      "text/plain": [
       "   Unnamed: 0  builtupLand  carbon  countryCode countryName  cropLand  \\\n",
       "0           0     0.018509     0.0          203       Spain  0.741322   \n",
       "1           1     0.018509     0.0          203       Spain  0.736760   \n",
       "2           2     0.018509     0.0          203       Spain  0.728842   \n",
       "3           3     0.018509     0.0          203       Spain  0.710976   \n",
       "4           4     0.018509     0.0          203       Spain  0.704489   \n",
       "\n",
       "   fishingGround  forestLand  grazingLand     id isoa2      record score  \\\n",
       "0       0.242950    0.364454     0.378919  86725    ES  AreaPerCap    3A   \n",
       "1       0.240241    0.363184     0.372112  86737    ES  AreaPerCap    3A   \n",
       "2       0.237503    0.364569     0.364997  86749    ES  AreaPerCap    3A   \n",
       "3       0.234814    0.363172     0.357582  86761    ES  AreaPerCap    3A   \n",
       "4       0.232224    0.361867     0.351136  86773    ES  AreaPerCap    3A   \n",
       "\n",
       "  shortName     value  version  year  \n",
       "0     Spain  1.746155      NaN  1961  \n",
       "1     Spain  1.730807      NaN  1962  \n",
       "2     Spain  1.714420      NaN  1963  \n",
       "3     Spain  1.685053      NaN  1964  \n",
       "4     Spain  1.668225      NaN  1965  "
      ]
     },
     "execution_count": 4,
     "metadata": {},
     "output_type": "execute_result"
    }
   ],
   "source": [
    "import pandas as pd\n",
    "import matplotlib\n",
    "\n",
    "df = pd.read_csv('spain_all_data.csv')\n",
    "df.head()"
   ]
  },
  {
   "cell_type": "code",
   "execution_count": 10,
   "metadata": {},
   "outputs": [
    {
     "data": {
      "text/plain": [
       "Unnamed: 0       869\n",
       "builtupLand      728\n",
       "carbon           728\n",
       "countryCode      869\n",
       "countryName      869\n",
       "cropLand         728\n",
       "fishingGround    728\n",
       "forestLand       728\n",
       "grazingLand      728\n",
       "id               869\n",
       "isoa2            869\n",
       "record           869\n",
       "score            728\n",
       "shortName        869\n",
       "value            869\n",
       "version            0\n",
       "year             869\n",
       "dtype: int64"
      ]
     },
     "execution_count": 10,
     "metadata": {},
     "output_type": "execute_result"
    }
   ],
   "source": [
    "df.count()"
   ]
  },
  {
   "cell_type": "code",
   "execution_count": 11,
   "metadata": {},
   "outputs": [
    {
     "data": {
      "text/plain": [
       "Unnamed: 0         0\n",
       "builtupLand      141\n",
       "carbon           141\n",
       "countryCode        0\n",
       "countryName        0\n",
       "cropLand         141\n",
       "fishingGround    141\n",
       "forestLand       141\n",
       "grazingLand      141\n",
       "id                 0\n",
       "isoa2              0\n",
       "record             0\n",
       "score            141\n",
       "shortName          0\n",
       "value              0\n",
       "version          869\n",
       "year               0\n",
       "dtype: int64"
      ]
     },
     "execution_count": 11,
     "metadata": {},
     "output_type": "execute_result"
    }
   ],
   "source": [
    "df.isnull().sum()"
   ]
  },
  {
   "cell_type": "markdown",
   "metadata": {},
   "source": [
    "Hacemos una copia del dataframe correspondiente a los valores recopilados para España\n"
   ]
  },
  {
   "cell_type": "code",
   "execution_count": 12,
   "metadata": {},
   "outputs": [],
   "source": [
    "spain2 = df.copy()\n"
   ]
  },
  {
   "cell_type": "markdown",
   "metadata": {},
   "source": [
    "Eliminamos la columna 'version'"
   ]
  },
  {
   "cell_type": "code",
   "execution_count": 23,
   "metadata": {},
   "outputs": [
    {
     "ename": "KeyError",
     "evalue": "\"['version'] not found in axis\"",
     "output_type": "error",
     "traceback": [
      "\u001b[0;31m---------------------------------------------------------------------------\u001b[0m",
      "\u001b[0;31mKeyError\u001b[0m                                  Traceback (most recent call last)",
      "\u001b[0;32m<ipython-input-23-bc1c75096022>\u001b[0m in \u001b[0;36m<module>\u001b[0;34m\u001b[0m\n\u001b[0;32m----> 1\u001b[0;31m \u001b[0mspain2\u001b[0m\u001b[0;34m.\u001b[0m\u001b[0mdrop\u001b[0m\u001b[0;34m(\u001b[0m\u001b[0;34m[\u001b[0m\u001b[0;34m'version'\u001b[0m\u001b[0;34m,\u001b[0m \u001b[0;34m'Unnamed: 0'\u001b[0m\u001b[0;34m]\u001b[0m\u001b[0;34m,\u001b[0m \u001b[0maxis\u001b[0m\u001b[0;34m=\u001b[0m\u001b[0;36m1\u001b[0m\u001b[0;34m,\u001b[0m \u001b[0minplace\u001b[0m\u001b[0;34m=\u001b[0m\u001b[0;32mTrue\u001b[0m\u001b[0;34m)\u001b[0m\u001b[0;34m\u001b[0m\u001b[0;34m\u001b[0m\u001b[0m\n\u001b[0m",
      "\u001b[0;32m/usr/local/lib/python3.7/site-packages/pandas/core/frame.py\u001b[0m in \u001b[0;36mdrop\u001b[0;34m(self, labels, axis, index, columns, level, inplace, errors)\u001b[0m\n\u001b[1;32m   3938\u001b[0m                                            \u001b[0mindex\u001b[0m\u001b[0;34m=\u001b[0m\u001b[0mindex\u001b[0m\u001b[0;34m,\u001b[0m \u001b[0mcolumns\u001b[0m\u001b[0;34m=\u001b[0m\u001b[0mcolumns\u001b[0m\u001b[0;34m,\u001b[0m\u001b[0;34m\u001b[0m\u001b[0;34m\u001b[0m\u001b[0m\n\u001b[1;32m   3939\u001b[0m                                            \u001b[0mlevel\u001b[0m\u001b[0;34m=\u001b[0m\u001b[0mlevel\u001b[0m\u001b[0;34m,\u001b[0m \u001b[0minplace\u001b[0m\u001b[0;34m=\u001b[0m\u001b[0minplace\u001b[0m\u001b[0;34m,\u001b[0m\u001b[0;34m\u001b[0m\u001b[0;34m\u001b[0m\u001b[0m\n\u001b[0;32m-> 3940\u001b[0;31m                                            errors=errors)\n\u001b[0m\u001b[1;32m   3941\u001b[0m \u001b[0;34m\u001b[0m\u001b[0m\n\u001b[1;32m   3942\u001b[0m     @rewrite_axis_style_signature('mapper', [('copy', True),\n",
      "\u001b[0;32m/usr/local/lib/python3.7/site-packages/pandas/core/generic.py\u001b[0m in \u001b[0;36mdrop\u001b[0;34m(self, labels, axis, index, columns, level, inplace, errors)\u001b[0m\n\u001b[1;32m   3778\u001b[0m         \u001b[0;32mfor\u001b[0m \u001b[0maxis\u001b[0m\u001b[0;34m,\u001b[0m \u001b[0mlabels\u001b[0m \u001b[0;32min\u001b[0m \u001b[0maxes\u001b[0m\u001b[0;34m.\u001b[0m\u001b[0mitems\u001b[0m\u001b[0;34m(\u001b[0m\u001b[0;34m)\u001b[0m\u001b[0;34m:\u001b[0m\u001b[0;34m\u001b[0m\u001b[0;34m\u001b[0m\u001b[0m\n\u001b[1;32m   3779\u001b[0m             \u001b[0;32mif\u001b[0m \u001b[0mlabels\u001b[0m \u001b[0;32mis\u001b[0m \u001b[0;32mnot\u001b[0m \u001b[0;32mNone\u001b[0m\u001b[0;34m:\u001b[0m\u001b[0;34m\u001b[0m\u001b[0;34m\u001b[0m\u001b[0m\n\u001b[0;32m-> 3780\u001b[0;31m                 \u001b[0mobj\u001b[0m \u001b[0;34m=\u001b[0m \u001b[0mobj\u001b[0m\u001b[0;34m.\u001b[0m\u001b[0m_drop_axis\u001b[0m\u001b[0;34m(\u001b[0m\u001b[0mlabels\u001b[0m\u001b[0;34m,\u001b[0m \u001b[0maxis\u001b[0m\u001b[0;34m,\u001b[0m \u001b[0mlevel\u001b[0m\u001b[0;34m=\u001b[0m\u001b[0mlevel\u001b[0m\u001b[0;34m,\u001b[0m \u001b[0merrors\u001b[0m\u001b[0;34m=\u001b[0m\u001b[0merrors\u001b[0m\u001b[0;34m)\u001b[0m\u001b[0;34m\u001b[0m\u001b[0;34m\u001b[0m\u001b[0m\n\u001b[0m\u001b[1;32m   3781\u001b[0m \u001b[0;34m\u001b[0m\u001b[0m\n\u001b[1;32m   3782\u001b[0m         \u001b[0;32mif\u001b[0m \u001b[0minplace\u001b[0m\u001b[0;34m:\u001b[0m\u001b[0;34m\u001b[0m\u001b[0;34m\u001b[0m\u001b[0m\n",
      "\u001b[0;32m/usr/local/lib/python3.7/site-packages/pandas/core/generic.py\u001b[0m in \u001b[0;36m_drop_axis\u001b[0;34m(self, labels, axis, level, errors)\u001b[0m\n\u001b[1;32m   3810\u001b[0m                 \u001b[0mnew_axis\u001b[0m \u001b[0;34m=\u001b[0m \u001b[0maxis\u001b[0m\u001b[0;34m.\u001b[0m\u001b[0mdrop\u001b[0m\u001b[0;34m(\u001b[0m\u001b[0mlabels\u001b[0m\u001b[0;34m,\u001b[0m \u001b[0mlevel\u001b[0m\u001b[0;34m=\u001b[0m\u001b[0mlevel\u001b[0m\u001b[0;34m,\u001b[0m \u001b[0merrors\u001b[0m\u001b[0;34m=\u001b[0m\u001b[0merrors\u001b[0m\u001b[0;34m)\u001b[0m\u001b[0;34m\u001b[0m\u001b[0;34m\u001b[0m\u001b[0m\n\u001b[1;32m   3811\u001b[0m             \u001b[0;32melse\u001b[0m\u001b[0;34m:\u001b[0m\u001b[0;34m\u001b[0m\u001b[0;34m\u001b[0m\u001b[0m\n\u001b[0;32m-> 3812\u001b[0;31m                 \u001b[0mnew_axis\u001b[0m \u001b[0;34m=\u001b[0m \u001b[0maxis\u001b[0m\u001b[0;34m.\u001b[0m\u001b[0mdrop\u001b[0m\u001b[0;34m(\u001b[0m\u001b[0mlabels\u001b[0m\u001b[0;34m,\u001b[0m \u001b[0merrors\u001b[0m\u001b[0;34m=\u001b[0m\u001b[0merrors\u001b[0m\u001b[0;34m)\u001b[0m\u001b[0;34m\u001b[0m\u001b[0;34m\u001b[0m\u001b[0m\n\u001b[0m\u001b[1;32m   3813\u001b[0m             \u001b[0mresult\u001b[0m \u001b[0;34m=\u001b[0m \u001b[0mself\u001b[0m\u001b[0;34m.\u001b[0m\u001b[0mreindex\u001b[0m\u001b[0;34m(\u001b[0m\u001b[0;34m**\u001b[0m\u001b[0;34m{\u001b[0m\u001b[0maxis_name\u001b[0m\u001b[0;34m:\u001b[0m \u001b[0mnew_axis\u001b[0m\u001b[0;34m}\u001b[0m\u001b[0;34m)\u001b[0m\u001b[0;34m\u001b[0m\u001b[0;34m\u001b[0m\u001b[0m\n\u001b[1;32m   3814\u001b[0m \u001b[0;34m\u001b[0m\u001b[0m\n",
      "\u001b[0;32m/usr/local/lib/python3.7/site-packages/pandas/core/indexes/base.py\u001b[0m in \u001b[0;36mdrop\u001b[0;34m(self, labels, errors)\u001b[0m\n\u001b[1;32m   4963\u001b[0m             \u001b[0;32mif\u001b[0m \u001b[0merrors\u001b[0m \u001b[0;34m!=\u001b[0m \u001b[0;34m'ignore'\u001b[0m\u001b[0;34m:\u001b[0m\u001b[0;34m\u001b[0m\u001b[0;34m\u001b[0m\u001b[0m\n\u001b[1;32m   4964\u001b[0m                 raise KeyError(\n\u001b[0;32m-> 4965\u001b[0;31m                     '{} not found in axis'.format(labels[mask]))\n\u001b[0m\u001b[1;32m   4966\u001b[0m             \u001b[0mindexer\u001b[0m \u001b[0;34m=\u001b[0m \u001b[0mindexer\u001b[0m\u001b[0;34m[\u001b[0m\u001b[0;34m~\u001b[0m\u001b[0mmask\u001b[0m\u001b[0;34m]\u001b[0m\u001b[0;34m\u001b[0m\u001b[0;34m\u001b[0m\u001b[0m\n\u001b[1;32m   4967\u001b[0m         \u001b[0;32mreturn\u001b[0m \u001b[0mself\u001b[0m\u001b[0;34m.\u001b[0m\u001b[0mdelete\u001b[0m\u001b[0;34m(\u001b[0m\u001b[0mindexer\u001b[0m\u001b[0;34m)\u001b[0m\u001b[0;34m\u001b[0m\u001b[0;34m\u001b[0m\u001b[0m\n",
      "\u001b[0;31mKeyError\u001b[0m: \"['version'] not found in axis\""
     ]
    }
   ],
   "source": [
    "spain2.drop(['version', 'Unnamed: 0'], axis=1, inplace=True)"
   ]
  },
  {
   "cell_type": "markdown",
   "metadata": {},
   "source": [
    "Eliminamos los índices nulos"
   ]
  },
  {
   "cell_type": "code",
   "execution_count": 19,
   "metadata": {},
   "outputs": [],
   "source": [
    "spain2 = spain2.drop(spain2[(spain2['builtupLand'].isnull()) |\n",
    "                      (spain2['carbon'].isnull()) | \n",
    "                      (spain2['cropLand'].isnull()) | \n",
    "                      (spain2['fishingGround'].isnull())|\n",
    "                      (spain2['forestLand'].isnull())| \n",
    "                      (spain2['grazingLand'].isnull())|\n",
    "                      (spain2['score'].isnull())].index)"
   ]
  },
  {
   "cell_type": "code",
   "execution_count": 20,
   "metadata": {},
   "outputs": [
    {
     "data": {
      "text/plain": [
       "Unnamed: 0       728\n",
       "builtupLand      728\n",
       "carbon           728\n",
       "countryCode      728\n",
       "countryName      728\n",
       "cropLand         728\n",
       "fishingGround    728\n",
       "forestLand       728\n",
       "grazingLand      728\n",
       "id               728\n",
       "isoa2            728\n",
       "record           728\n",
       "score            728\n",
       "shortName        728\n",
       "value            728\n",
       "year             728\n",
       "dtype: int64"
      ]
     },
     "execution_count": 20,
     "metadata": {},
     "output_type": "execute_result"
    }
   ],
   "source": [
    "spain2.count()"
   ]
  },
  {
   "cell_type": "code",
   "execution_count": 21,
   "metadata": {},
   "outputs": [
    {
     "data": {
      "text/html": [
       "<div>\n",
       "<style scoped>\n",
       "    .dataframe tbody tr th:only-of-type {\n",
       "        vertical-align: middle;\n",
       "    }\n",
       "\n",
       "    .dataframe tbody tr th {\n",
       "        vertical-align: top;\n",
       "    }\n",
       "\n",
       "    .dataframe thead th {\n",
       "        text-align: right;\n",
       "    }\n",
       "</style>\n",
       "<table border=\"1\" class=\"dataframe\">\n",
       "  <thead>\n",
       "    <tr style=\"text-align: right;\">\n",
       "      <th></th>\n",
       "      <th>Unnamed: 0</th>\n",
       "      <th>builtupLand</th>\n",
       "      <th>carbon</th>\n",
       "      <th>countryCode</th>\n",
       "      <th>countryName</th>\n",
       "      <th>cropLand</th>\n",
       "      <th>fishingGround</th>\n",
       "      <th>forestLand</th>\n",
       "      <th>grazingLand</th>\n",
       "      <th>id</th>\n",
       "      <th>isoa2</th>\n",
       "      <th>record</th>\n",
       "      <th>score</th>\n",
       "      <th>shortName</th>\n",
       "      <th>value</th>\n",
       "      <th>year</th>\n",
       "    </tr>\n",
       "  </thead>\n",
       "  <tbody>\n",
       "    <tr>\n",
       "      <th>0</th>\n",
       "      <td>0</td>\n",
       "      <td>0.018509</td>\n",
       "      <td>0.0</td>\n",
       "      <td>203</td>\n",
       "      <td>Spain</td>\n",
       "      <td>0.741322</td>\n",
       "      <td>0.242950</td>\n",
       "      <td>0.364454</td>\n",
       "      <td>0.378919</td>\n",
       "      <td>86725</td>\n",
       "      <td>ES</td>\n",
       "      <td>AreaPerCap</td>\n",
       "      <td>3A</td>\n",
       "      <td>Spain</td>\n",
       "      <td>1.746155</td>\n",
       "      <td>1961</td>\n",
       "    </tr>\n",
       "    <tr>\n",
       "      <th>1</th>\n",
       "      <td>1</td>\n",
       "      <td>0.018509</td>\n",
       "      <td>0.0</td>\n",
       "      <td>203</td>\n",
       "      <td>Spain</td>\n",
       "      <td>0.736760</td>\n",
       "      <td>0.240241</td>\n",
       "      <td>0.363184</td>\n",
       "      <td>0.372112</td>\n",
       "      <td>86737</td>\n",
       "      <td>ES</td>\n",
       "      <td>AreaPerCap</td>\n",
       "      <td>3A</td>\n",
       "      <td>Spain</td>\n",
       "      <td>1.730807</td>\n",
       "      <td>1962</td>\n",
       "    </tr>\n",
       "    <tr>\n",
       "      <th>2</th>\n",
       "      <td>2</td>\n",
       "      <td>0.018509</td>\n",
       "      <td>0.0</td>\n",
       "      <td>203</td>\n",
       "      <td>Spain</td>\n",
       "      <td>0.728842</td>\n",
       "      <td>0.237503</td>\n",
       "      <td>0.364569</td>\n",
       "      <td>0.364997</td>\n",
       "      <td>86749</td>\n",
       "      <td>ES</td>\n",
       "      <td>AreaPerCap</td>\n",
       "      <td>3A</td>\n",
       "      <td>Spain</td>\n",
       "      <td>1.714420</td>\n",
       "      <td>1963</td>\n",
       "    </tr>\n",
       "    <tr>\n",
       "      <th>3</th>\n",
       "      <td>3</td>\n",
       "      <td>0.018509</td>\n",
       "      <td>0.0</td>\n",
       "      <td>203</td>\n",
       "      <td>Spain</td>\n",
       "      <td>0.710976</td>\n",
       "      <td>0.234814</td>\n",
       "      <td>0.363172</td>\n",
       "      <td>0.357582</td>\n",
       "      <td>86761</td>\n",
       "      <td>ES</td>\n",
       "      <td>AreaPerCap</td>\n",
       "      <td>3A</td>\n",
       "      <td>Spain</td>\n",
       "      <td>1.685053</td>\n",
       "      <td>1964</td>\n",
       "    </tr>\n",
       "    <tr>\n",
       "      <th>4</th>\n",
       "      <td>4</td>\n",
       "      <td>0.018509</td>\n",
       "      <td>0.0</td>\n",
       "      <td>203</td>\n",
       "      <td>Spain</td>\n",
       "      <td>0.704489</td>\n",
       "      <td>0.232224</td>\n",
       "      <td>0.361867</td>\n",
       "      <td>0.351136</td>\n",
       "      <td>86773</td>\n",
       "      <td>ES</td>\n",
       "      <td>AreaPerCap</td>\n",
       "      <td>3A</td>\n",
       "      <td>Spain</td>\n",
       "      <td>1.668225</td>\n",
       "      <td>1965</td>\n",
       "    </tr>\n",
       "  </tbody>\n",
       "</table>\n",
       "</div>"
      ],
      "text/plain": [
       "   Unnamed: 0  builtupLand  carbon  countryCode countryName  cropLand  \\\n",
       "0           0     0.018509     0.0          203       Spain  0.741322   \n",
       "1           1     0.018509     0.0          203       Spain  0.736760   \n",
       "2           2     0.018509     0.0          203       Spain  0.728842   \n",
       "3           3     0.018509     0.0          203       Spain  0.710976   \n",
       "4           4     0.018509     0.0          203       Spain  0.704489   \n",
       "\n",
       "   fishingGround  forestLand  grazingLand     id isoa2      record score  \\\n",
       "0       0.242950    0.364454     0.378919  86725    ES  AreaPerCap    3A   \n",
       "1       0.240241    0.363184     0.372112  86737    ES  AreaPerCap    3A   \n",
       "2       0.237503    0.364569     0.364997  86749    ES  AreaPerCap    3A   \n",
       "3       0.234814    0.363172     0.357582  86761    ES  AreaPerCap    3A   \n",
       "4       0.232224    0.361867     0.351136  86773    ES  AreaPerCap    3A   \n",
       "\n",
       "  shortName     value  year  \n",
       "0     Spain  1.746155  1961  \n",
       "1     Spain  1.730807  1962  \n",
       "2     Spain  1.714420  1963  \n",
       "3     Spain  1.685053  1964  \n",
       "4     Spain  1.668225  1965  "
      ]
     },
     "execution_count": 21,
     "metadata": {},
     "output_type": "execute_result"
    }
   ],
   "source": [
    "spain2.head()"
   ]
  },
  {
   "cell_type": "code",
   "execution_count": null,
   "metadata": {},
   "outputs": [],
   "source": []
  }
 ],
 "metadata": {
  "kernelspec": {
   "display_name": "Python 3",
   "language": "python",
   "name": "python3"
  },
  "language_info": {
   "codemirror_mode": {
    "name": "ipython",
    "version": 3
   },
   "file_extension": ".py",
   "mimetype": "text/x-python",
   "name": "python",
   "nbconvert_exporter": "python",
   "pygments_lexer": "ipython3",
   "version": "3.7.3"
  }
 },
 "nbformat": 4,
 "nbformat_minor": 2
}
