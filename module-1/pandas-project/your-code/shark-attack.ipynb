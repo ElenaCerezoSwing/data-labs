{
 "cells": [
  {
   "cell_type": "code",
   "execution_count": 163,
   "metadata": {},
   "outputs": [
    {
     "data": {
      "text/plain": [
       "Case Number               3775\n",
       "Date                      3775\n",
       "Year                      3775\n",
       "Type                      3775\n",
       "Country                   3750\n",
       "Area                      3580\n",
       "Location                  3564\n",
       "Activity                  3558\n",
       "Name                      3655\n",
       "Sex                       3583\n",
       "Age                       2296\n",
       "Injury                    3748\n",
       "Fatal(Y/N)                3756\n",
       "Time                      1918\n",
       "Species                   2627\n",
       "Investigator or Source    3773\n",
       "pdf                       3775\n",
       "original order            3775\n",
       "protocol                  3775\n",
       "root_url                  3775\n",
       "relative_path             3775\n",
       "dtype: int64"
      ]
     },
     "execution_count": 163,
     "metadata": {},
     "output_type": "execute_result"
    }
   ],
   "source": [
    "import re\n",
    "import csv\n",
    "import pandas as pd\n",
    "\n",
    "# Asignamos a una variable el dataframe que es resultado de leer el csv\n",
    "sharks = pd.read_csv(\"GSAF5.csv\",header=0, encoding='unicode_escape')\n",
    "# Contamos el número de columnas que tiene con len(dataframe.columns). En un primer momento era 24\n",
    "# print(len(sharks.columns))\n",
    "# En segundo lugar hacemos un display.max_columns de 24 columnas para ver todas las columnas que existen\n",
    "# Y sus valores correspondientes\n",
    "pd.set_option('display.max_columns', 32)\n",
    "# Exploramos una muestra\n",
    "# sharks.head(50)\n",
    "# Comprobamos cuantos valores nulos existen, y observamos que hay dos columnas que tienen 5991 y 5990 valores\n",
    "# Por tanto, procedemos a eliminarlas con el método del\n",
    "number_of_null_values = sharks.isnull().sum()\n",
    "# print(number_of_null_values)\n",
    "del sharks['Unnamed: 22']\n",
    "del sharks['Unnamed: 23']\n",
    "# Comprobamos la muestra y la longitud y observamos que ha cambiado\n",
    "# prueba comentada: sharks.head(50)\n",
    "# prueba comentada: print(len(sharks.columns))\n",
    "# prueba comentada: sharks.columns\n",
    "# Observamos que hay especies que no tienen registro, sin embargo, hay filas que no tienen especie pero son fatales\n",
    "# Por tanto, vamos a tener como condicionante máximo que se eliminarán registro que no sean representativos\n",
    "# siempre que no correspondan a ataques fatales\n",
    "#sharks = sharks.drop(sharks[(sharks['Species '].isnull()) & (sharks['Fatal (Y/N)'] == 'N')].index)\n",
    "sharks = sharks.drop(sharks[(sharks['Species '].isnull()) & (sharks['Fatal (Y/N)'] == 'N')].index)\n",
    "# Modificamos los campos reltivos a la url y creamos nuevos, para finalmente eliminar otros\n",
    "sharks['href'] = \"http://sharkattackfile.net/spreadsheets/pdf_directory/\"\n",
    "sharks['protocol'] =\"http://\"\n",
    "sharks['root_url'] = \"sharkattackfile.net\"\n",
    "sharks['relative_path'] = \"/spreadsheets/pdf_directory/\"\n",
    "sharks['href'] = sharks['protocol'] + sharks['root_url'] + sharks['relative_path'] + sharks['pdf']\n",
    "del sharks['href formula']\n",
    "\n",
    "# Comprobamos si se repiten pdf y original orders\n",
    "len(sharks['original order']) == len(set(sharks['original order']))\n",
    "len(sharks['pdf']) == len(set(sharks['pdf']))\n",
    "\n",
    "# MRenombramos columnas\n",
    "sharks.rename(index=str, columns={\"Sex \": \"Sex\", \"Species \": 'Species','Fatal (Y/N)':'Fatal(Y/N)'},inplace=True)\n",
    "\n",
    "# Eliminamos espacios vacíos e innecesarios en los campos de tipo string\n",
    "sharks['Type'] =sharks['Type'].str.strip()\n",
    "sharks['Country'] =sharks['Country'].str.strip()\n",
    "sharks['Area'] =sharks['Area'].str.strip()\n",
    "sharks['Location'] =sharks['Location'].str.strip()\n",
    "sharks['Activity'] =sharks['Activity'].str.strip()\n",
    "sharks['Name'] =sharks['Name'].str.strip()\n",
    "sharks['Sex'] =sharks['Sex'].str.strip()\n",
    "sharks['Injury'] =sharks['Injury'].str.strip()\n",
    "sharks['Species'] =sharks['Species'].str.strip()\n",
    "sharks['Fatal(Y/N)'] =sharks['Fatal(Y/N)'].str.strip()\n",
    "sharks['Investigator or Source'] =sharks['Investigator or Source'].str.strip()\n",
    "\n",
    "# Eliminamos más columnas innecesarias con el método drop\n",
    "sharks.drop(['Case Number.1', 'Case Number.2', 'href'], axis=1,inplace=True)\n",
    "\n",
    "sharks['Case Number'] =sharks['Case Number'].apply(lambda x: x.replace('.','/'))\n",
    "# crea una función!!!!\n",
    "# función date_regex 4-2-2\n",
    "sharks = sharks.drop(sharks[(sharks['Type'].isnull()) & (sharks['Fatal(Y/N)'] == 'N')].index)\n",
    "sharks = sharks.drop(sharks[(sharks['Country'].isnull()) & (sharks['Fatal(Y/N)'] == 'N')].index)\n",
    "sharks = sharks.drop(sharks[(sharks['Area'].isnull()) & (sharks['Fatal(Y/N)'] == 'N')].index)\n",
    "sharks = sharks.drop(sharks[(sharks['Location'].isnull()) & (sharks['Fatal(Y/N)'] == 'N')].index)\n",
    "sharks = sharks.drop(sharks[(sharks['Activity'].isnull()) & (sharks['Fatal(Y/N)'] == 'N')].index)\n",
    "sharks = sharks.drop(sharks[(sharks['Name'].isnull()) & (sharks['Fatal(Y/N)'] == 'N')].index)\n",
    "sharks = sharks.drop(sharks[(sharks['Sex'].isnull()) & (sharks['Fatal(Y/N)'] == 'N')].index)\n",
    "sharks = sharks.drop(sharks[(sharks['Injury'].isnull()) & (sharks['Fatal(Y/N)'] == 'N')].index)\n",
    "sharks = sharks.drop(sharks[(sharks['Investigator or Source'].isnull()) & (sharks['Fatal(Y/N)'] == 'N')].index)\n",
    "\n",
    "sharks.count()\n",
    "\n",
    "\n"
   ]
  },
  {
   "cell_type": "code",
   "execution_count": null,
   "metadata": {},
   "outputs": [],
   "source": []
  },
  {
   "cell_type": "code",
   "execution_count": null,
   "metadata": {},
   "outputs": [],
   "source": [
    "\n"
   ]
  },
  {
   "cell_type": "code",
   "execution_count": null,
   "metadata": {},
   "outputs": [],
   "source": []
  }
 ],
 "metadata": {
  "kernelspec": {
   "display_name": "Python 3",
   "language": "python",
   "name": "python3"
  },
  "language_info": {
   "codemirror_mode": {
    "name": "ipython",
    "version": 3
   },
   "file_extension": ".py",
   "mimetype": "text/x-python",
   "name": "python",
   "nbconvert_exporter": "python",
   "pygments_lexer": "ipython3",
   "version": "3.7.3"
  }
 },
 "nbformat": 4,
 "nbformat_minor": 2
}
