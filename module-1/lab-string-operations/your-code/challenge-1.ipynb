{
 "cells": [
  {
   "cell_type": "markdown",
   "metadata": {},
   "source": [
    "# String Operations Lab\n",
    "\n",
    "**Before your start:**\n",
    "\n",
    "- Read the README.md file\n",
    "- Comment as much as you can and use the resources in the README.md file\n",
    "- Happy learning!"
   ]
  },
  {
   "cell_type": "code",
   "execution_count": 1,
   "metadata": {},
   "outputs": [],
   "source": [
    "import re"
   ]
  },
  {
   "cell_type": "markdown",
   "metadata": {},
   "source": [
    "# Challenge 1 - Combining Strings\n",
    "\n",
    "Combining strings is an important skill to acquire. There are multiple ways of combining strings in Python, as well as combining strings with variables. We will explore this in the first challenge. In the cell below, combine the strings in the list and add spaces between the strings (do not add a space after the last string). Insert a period after the last string."
   ]
  },
  {
   "cell_type": "code",
   "execution_count": 14,
   "metadata": {},
   "outputs": [
    {
     "data": {
      "text/plain": [
       "'Durante un tiempo no estuvo segura de si su marido era su marido.'"
      ]
     },
     "execution_count": 14,
     "metadata": {},
     "output_type": "execute_result"
    }
   ],
   "source": [
    "str_list = ['Durante', 'un', 'tiempo', 'no', 'estuvo', 'segura', 'de', 'si', 'su', 'marido', 'era', 'su', 'marido']\n",
    "\n",
    "# Primero pasamos la lista a un string con el método join()\n",
    "# Al final añadimos el carácter '.'\n",
    "stringified_str_list = \" \".join(str_list) + '.'\n",
    "stringified_str_list"
   ]
  },
  {
   "cell_type": "code",
   "execution_count": null,
   "metadata": {},
   "outputs": [],
   "source": []
  },
  {
   "cell_type": "markdown",
   "metadata": {},
   "source": [
    "In the cell below, use the list of strings to create a grocery list. Start the list with the string `Grocery list: ` and include a comma and a space between each item except for the last one. Include a period at the end. Only include foods in the list that start with the letter 'b' and ensure all foods are lower case."
   ]
  },
  {
   "cell_type": "code",
   "execution_count": 31,
   "metadata": {},
   "outputs": [
    {
     "data": {
      "text/plain": [
       "'bananas, bread, brownie, mix, broccoli.'"
      ]
     },
     "execution_count": 31,
     "metadata": {},
     "output_type": "execute_result"
    }
   ],
   "source": [
    "food_list = ['Bananas', 'Chocolate', 'bread', 'diapers', 'Ice Cream', 'Brownie Mix', 'broccoli']\n",
    "# Creamos una lista vacía que nos servirá de contenedor\n",
    "new_list = []\n",
    "# Recorremos la lista de comida\n",
    "for item in food_list:\n",
    "    # Pasamos todos los elementos a minúscula y sólo seleccionamos los que empiecen con b\n",
    "    if (item.lower()).startswith('b'):\n",
    "        # Añadimos aquellos elementos que cumplan la selección\n",
    "        new_list.append(item.lower())\n",
    "# Con el método join() juntamos los elementos de la lista, añadimos un '.' al final y sustituímos el espacio por la coma\n",
    "(\" \".join(new_list) + '.').replace(\" \", \", \")\n",
    "\n"
   ]
  },
  {
   "cell_type": "markdown",
   "metadata": {},
   "source": [
    "In the cell below, write a function that computes the area of a circle using its radius. Compute the area of the circle and insert the radius and the area between the two strings. Make sure to include spaces between the variable and the strings. \n",
    "\n",
    "Note: You can use the techniques we have learned so far or use f-strings. F-strings allow us to embed code inside strings. You can read more about f-strings [here](https://www.python.org/dev/peps/pep-0498/)."
   ]
  },
  {
   "cell_type": "code",
   "execution_count": 97,
   "metadata": {},
   "outputs": [
    {
     "name": "stdout",
     "output_type": "stream",
     "text": [
      "28.274333882308138\n"
     ]
    },
    {
     "data": {
      "text/plain": [
       "'The area of the circle with radius: 4.5 is: 63.61725123519331'"
      ]
     },
     "execution_count": 97,
     "metadata": {},
     "output_type": "execute_result"
    }
   ],
   "source": [
    "import math\n",
    "\n",
    "string1 = \"The area of the circle with radius: \"\n",
    "string2  = \" is: \"\n",
    "radius = 4.5\n",
    "\n",
    "def area(x, pi = math.pi):\n",
    "    return pi * (x*x)\n",
    "\n",
    "    # This function takes a radius and returns the area of a circle. We also pass a default value for pi.\n",
    "    # Input: Float (and default value for pi)\n",
    "    # Output: Float\n",
    "    \n",
    "    # Sample input: 5.0\n",
    "    # Sample Output: 78.53981633\n",
    "    \n",
    "    # Your code here:\n",
    "    \n",
    "    \n",
    "# Your output string here:\n",
    "# Concatenamos strings\n",
    "string1 + str(radius) + string2 + str(area(radius))"
   ]
  },
  {
   "cell_type": "markdown",
   "metadata": {},
   "source": [
    "# Challenge 2 - Splitting Strings\n",
    "\n",
    "We have first looked at combining strings into one long string. There are times where we need to do the opposite and split the string into smaller components for further analysis. \n",
    "\n",
    "In the cell below, split the string into a list of strings using the space delimiter. Count the frequency of each word in the string in a dictionary. Strip the periods, line breaks and commas from the text. Make sure to remove empty strings from your dictionary."
   ]
  },
  {
   "cell_type": "code",
   "execution_count": 95,
   "metadata": {},
   "outputs": [
    {
     "name": "stdout",
     "output_type": "stream",
     "text": [
      "51\n",
      "42\n"
     ]
    },
    {
     "data": {
      "text/plain": [
       "{'world': 1,\n",
       " 'destruction': 1,\n",
       " 'twice': 1,\n",
       " 'enough': 1,\n",
       " 'To': 1,\n",
       " 'know': 1,\n",
       " 'great': 1,\n",
       " 'think': 1,\n",
       " 'of': 2,\n",
       " 'end': 1,\n",
       " 'suffice': 1,\n",
       " 'fire': 2,\n",
       " 'I’ve': 1,\n",
       " 'desire': 1,\n",
       " 'with': 1,\n",
       " 'hold': 1,\n",
       " 'what': 1,\n",
       " 'From': 1,\n",
       " 'perish': 1,\n",
       " 'Is': 1,\n",
       " 'I': 3,\n",
       " 'But': 1,\n",
       " 'the': 1,\n",
       " 'to': 1,\n",
       " 'if': 1,\n",
       " 'will': 1,\n",
       " 'hate': 1,\n",
       " 'it': 1,\n",
       " 'who': 1,\n",
       " 'for': 1,\n",
       " 'say': 3,\n",
       " 'And': 1,\n",
       " 'that': 1,\n",
       " 'also': 1,\n",
       " 'in': 2,\n",
       " 'favor': 1,\n",
       " 'had': 1,\n",
       " 'tasted': 1,\n",
       " 'would': 1,\n",
       " 'Some': 2,\n",
       " 'those': 1,\n",
       " 'ice': 2}"
      ]
     },
     "execution_count": 95,
     "metadata": {},
     "output_type": "execute_result"
    }
   ],
   "source": [
    "poem = \"\"\"Some say the world will end in fire,\n",
    "Some say in ice.\n",
    "From what I’ve tasted of desire\n",
    "I hold with those who favor fire.\n",
    "But if it had to perish twice,\n",
    "I think I know enough of hate\n",
    "To say that for destruction ice\n",
    "Is also great\n",
    "And would suffice.\"\"\"\n",
    "\n",
    "#pepe = (((poem.replace(\",\", \" \")).replace(\"\\n\", \"\")).split(\" \")\n",
    "#pepe\n",
    "\n",
    "# Your code here:\n",
    "# Primero reemplazamos los saltos de línea por espacios.\n",
    "raw_poem = poem.replace(\"\\n\", \" \")\n",
    "# Después reemplazamos los puntos por espacios.\n",
    "raw_poem_without_point = raw_poem.replace(\".\", \" \")\n",
    "# A continuación, reemplazamos las comas por espacios.\n",
    "raw_poem_without_point_and_commas = raw_poem_without_point.replace(\",\", \" \")\n",
    "# Finalmente transformamos los dobles espacios en uno simple, eliminamos los espacios innecesarios y pasamos\n",
    "# el string a list utilizando como separador el espacio simple\n",
    "poem_list = raw_poem_without_point_and_commas.replace(\"  \", \" \").strip().split(\" \")\n",
    "poem_list\n",
    "# Hacemos el conjunto de nuestra lista\n",
    "set_poem_list = set(poem_list)\n",
    "print(len(poem_list))\n",
    "print(len(set_poem_list))\n",
    "set_poem_list\n",
    "\n",
    "# Creamos un diccionario vacío\n",
    "freq_dict = {}\n",
    "# Inicializamos el contador de veces a 0\n",
    "times = 0\n",
    "# Recorremos el conjunto. \n",
    "# Asignamos a la variable times el número de veces que aparece cada item y la asignamos a cada clave\n",
    "# del diccionario, que va a ser cada item\n",
    "for item in set_poem_list:\n",
    "    times = poem_list.count(item)\n",
    "    freq_dict[item] = times\n",
    "freq_dict\n"
   ]
  },
  {
   "cell_type": "markdown",
   "metadata": {},
   "source": [
    "In the cell below, find all the words that appear in the text and do not appear in the blacklist. You must parse the string but can choose any data structure you wish for the words that do not appear in the blacklist. Remove all non letter characters and convert all words to lower case."
   ]
  },
  {
   "cell_type": "code",
   "execution_count": 82,
   "metadata": {},
   "outputs": [
    {
     "data": {
      "text/plain": [
       "['I',\n",
       " 'was',\n",
       " 'angry',\n",
       " 'with',\n",
       " 'my',\n",
       " 'friend;',\n",
       " 'I',\n",
       " 'told',\n",
       " 'my',\n",
       " 'wrath',\n",
       " 'my',\n",
       " 'wrath',\n",
       " 'did',\n",
       " 'end',\n",
       " 'I',\n",
       " 'was',\n",
       " 'angry',\n",
       " 'with',\n",
       " 'my',\n",
       " 'foe:',\n",
       " 'I',\n",
       " 'told',\n",
       " 'not',\n",
       " 'my',\n",
       " 'wrath',\n",
       " 'did',\n",
       " 'grow',\n",
       " 'I',\n",
       " 'waterd',\n",
       " 'fears',\n",
       " 'Night',\n",
       " '&',\n",
       " 'morning',\n",
       " 'with',\n",
       " 'my',\n",
       " 'tears:',\n",
       " 'I',\n",
       " 'sunned',\n",
       " 'with',\n",
       " 'smiles',\n",
       " 'with',\n",
       " 'soft',\n",
       " 'deceitful',\n",
       " 'wiles',\n",
       " 'grew',\n",
       " 'both',\n",
       " 'day',\n",
       " 'night',\n",
       " 'Till',\n",
       " 'bore',\n",
       " 'apple',\n",
       " 'bright',\n",
       " 'my',\n",
       " 'foe',\n",
       " 'beheld',\n",
       " 'shine',\n",
       " 'he',\n",
       " 'knew',\n",
       " 'that',\n",
       " 'was',\n",
       " 'mine',\n",
       " 'into',\n",
       " 'my',\n",
       " 'garden',\n",
       " 'stole',\n",
       " 'When',\n",
       " 'night',\n",
       " 'had',\n",
       " 'veild',\n",
       " 'pole;',\n",
       " 'morning',\n",
       " 'glad',\n",
       " 'I',\n",
       " 'see;',\n",
       " 'My',\n",
       " 'foe',\n",
       " 'outstretched',\n",
       " 'beneath',\n",
       " 'tree']"
      ]
     },
     "execution_count": 82,
     "metadata": {},
     "output_type": "execute_result"
    }
   ],
   "source": [
    "blacklist = ['and', 'as', 'an', 'a', 'the', 'in', 'it']\n",
    "\n",
    "poem = \"\"\"I was angry with my friend; \n",
    "I told my wrath, my wrath did end.\n",
    "I was angry with my foe: \n",
    "I told it not, my wrath did grow. \n",
    "\n",
    "And I waterd it in fears,\n",
    "Night & morning with my tears: \n",
    "And I sunned it with smiles,\n",
    "And with soft deceitful wiles. \n",
    "\n",
    "And it grew both day and night. \n",
    "Till it bore an apple bright. \n",
    "And my foe beheld it shine,\n",
    "And he knew that it was mine. \n",
    "\n",
    "And into my garden stole, \n",
    "When the night had veild the pole; \n",
    "In the morning glad I see; \n",
    "My foe outstretched beneath the tree.\"\"\"\n",
    "\n",
    "# Your code here:\n",
    "# Primero reemplazamos los saltos de línea por espacios.\n",
    "raw_poem = poem.replace(\"\\n\", \" \")\n",
    "# Después reemplazamos los puntos por espacios.\n",
    "raw_poem_without_point = raw_poem.replace(\".\", \" \")\n",
    "# A continuación, reemplazamos las comas por espacios.\n",
    "raw_poem_without_point_and_commas = raw_poem_without_point.replace(\",\", \" \")\n",
    "# Finalmente transformamos los dobles espacios en uno simple, eliminamos los espacios innecesarios y pasamos\n",
    "# el string a list utilizando como separador el espacio simple\n",
    "poem_list = raw_poem_without_point_and_commas.replace(\"  \", \" \").strip().split(\" \")\n",
    "# Recorremos nuestra lista y si observamos que existe algún item que sea igual a '' lo eliminamos\n",
    "while '' in poem_list:\n",
    "    poem_list.remove('')\n",
    "poem_list\n",
    "\n",
    "# Creamos una lista vacía\n",
    "new_poem = []\n",
    "# Recorremos nuestra lista\n",
    "for item in poem_list:\n",
    "    # si cada item en minúscula no está en la lista blacklist lo añadimos a nuestra nueva lista\n",
    "    if item.lower() not in blacklist:\n",
    "        new_poem.append(item)\n",
    "new_poem"
   ]
  },
  {
   "cell_type": "markdown",
   "metadata": {},
   "source": [
    "# Challenge 3 - Regular Expressions\n",
    "\n",
    "Sometimes, we would like to perform more complex manipulations of our string. This is where regular expressions come in handy. In the cell below, return all characters that are upper case from the string specified below."
   ]
  },
  {
   "cell_type": "code",
   "execution_count": 100,
   "metadata": {},
   "outputs": [
    {
     "data": {
      "text/plain": [
       "['T', 'P']"
      ]
     },
     "execution_count": 100,
     "metadata": {},
     "output_type": "execute_result"
    }
   ],
   "source": [
    "poem = \"\"\"The apparition of these faces in the crowd;\n",
    "Petals on a wet, black bough.\"\"\"\n",
    "\n",
    "# Your code here:\n",
    "\n",
    "# En esta regexp añadimos primero los caracteres alfabéticos en mayúsculas que aparecen en el string.\n",
    "# No añadimos más a la regexp porque dicen CARACTERES, no elementos\n",
    "result = re.findall(r\"[A-Z]+\", poem)\n",
    "result"
   ]
  },
  {
   "cell_type": "markdown",
   "metadata": {},
   "source": [
    "In the cell below, filter the list provided and return all elements of the list containing a number. To filter the list, use the `re.search` function. Check if the function does not return `None`. You can read more about the `re.search` function [here](https://docs.python.org/3/library/re.html)."
   ]
  },
  {
   "cell_type": "code",
   "execution_count": 92,
   "metadata": {},
   "outputs": [
    {
     "name": "stdout",
     "output_type": "stream",
     "text": [
      "123abc\n",
      "abc123\n",
      "JohnSmith1\n",
      "ABBY4\n"
     ]
    }
   ],
   "source": [
    "data = ['123abc', 'abc123', 'JohnSmith1', 'ABBY4', 'JANE']\n",
    "\n",
    "# Your code here:\n",
    "# Recorremos la lista y buscamos aquellos elementos que contengan un dígito\n",
    "for item in data:\n",
    "    if re.search(r\"[0-9]+\", item):\n",
    "        print(item)"
   ]
  },
  {
   "cell_type": "markdown",
   "metadata": {},
   "source": [
    "# Bonus Challenge - Regular Expressions II\n",
    "\n",
    "In the cell below, filter the list provided to keep only strings containing at least one digit and at least one lower case letter. As in the previous question, use the `re.search` function and check that the result is not `None`.\n",
    "\n",
    "To read more about regular expressions, check out [this link](https://developers.google.com/edu/python/regular-expressions)."
   ]
  },
  {
   "cell_type": "code",
   "execution_count": 94,
   "metadata": {},
   "outputs": [
    {
     "name": "stdout",
     "output_type": "stream",
     "text": [
      "123abc\n",
      "abc123\n",
      "JohnSmith1\n"
     ]
    }
   ],
   "source": [
    "data = ['123abc', 'abc123', 'JohnSmith1', 'ABBY4', 'JANE']\n",
    "# Your code here:\n",
    "# Recorremos la lista y buscamos elementos que cumplan la regexp\n",
    "# Primer intento\n",
    "#if re.search(r\"[0-9]+[a-z]+|[a-z]+[0-9]+\", item):\n",
    "# Segunda iteración\n",
    "\n",
    "for item in data:\n",
    "    if re.search(r\"[0-9]+ | [a-z]+\", item):\n",
    "        print(item)\n"
   ]
  },
  {
   "cell_type": "code",
   "execution_count": null,
   "metadata": {},
   "outputs": [],
   "source": []
  }
 ],
 "metadata": {
  "kernelspec": {
   "display_name": "Python 3",
   "language": "python",
   "name": "python3"
  },
  "language_info": {
   "codemirror_mode": {
    "name": "ipython",
    "version": 3
   },
   "file_extension": ".py",
   "mimetype": "text/x-python",
   "name": "python",
   "nbconvert_exporter": "python",
   "pygments_lexer": "ipython3",
   "version": "3.7.3"
  }
 },
 "nbformat": 4,
 "nbformat_minor": 2
}
