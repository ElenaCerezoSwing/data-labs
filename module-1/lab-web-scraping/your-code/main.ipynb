{
 "cells": [
  {
   "cell_type": "markdown",
   "metadata": {},
   "source": [
    "# Web Scraping Lab\n",
    "\n",
    "You will find in this notebook some scrapy exercises to practise your scraping skills.\n",
    "\n",
    "**Tips:**\n",
    "\n",
    "- Check the response status code for each request to ensure you have obtained the intended contennt.\n",
    "- Print the response text in each request to understand the kind of info you are getting and its format.\n",
    "- Check for patterns in the response text to extract the data/info requested in each question.\n",
    "- Visit each url and take a look at its source through Chrome DevTools. You'll need to identify the html tags, special class names etc. used for the html content you are expected to extract."
   ]
  },
  {
   "cell_type": "markdown",
   "metadata": {},
   "source": [
    "- [Requests library](http://docs.python-requests.org/en/master/#the-user-guide) documentation \n",
    "- [Beautiful Soup Doc](https://www.crummy.com/software/BeautifulSoup/bs4/doc/)\n",
    "- [Urllib](https://docs.python.org/3/library/urllib.html#module-urllib)\n",
    "- [re lib](https://docs.python.org/3/library/re.html)\n",
    "- [lxml lib](https://lxml.de/)\n",
    "- [Scrapy](https://scrapy.org/)\n",
    "- [List of HTTP status codes](https://en.wikipedia.org/wiki/List_of_HTTP_status_codes)\n",
    "- [HTML basics](http://www.simplehtmlguide.com/cheatsheet.php)\n",
    "- [CSS basics](https://www.cssbasics.com/#page_start)"
   ]
  },
  {
   "cell_type": "markdown",
   "metadata": {},
   "source": [
    "#### Below are the libraries and modules you may need. `requests`,  `BeautifulSoup` and `pandas` are imported for you. If you prefer to use additional libraries feel free to uncomment them."
   ]
  },
  {
   "cell_type": "code",
   "execution_count": 4,
   "metadata": {},
   "outputs": [],
   "source": [
    "import requests\n",
    "from bs4 import BeautifulSoup\n",
    "import pandas as pd\n",
    "from pprint import pprint\n",
    "#from lxml import html\n",
    "#from lxml.html import fromstring\n",
    "import urllib.request\n",
    "from urllib.request import urlopen\n",
    "import random\n",
    "import re\n",
    "#import scrapy\n",
    "from itertools import zip_longest"
   ]
  },
  {
   "cell_type": "markdown",
   "metadata": {},
   "source": [
    "#### Download, parse (using BeautifulSoup), and print the content from the Trending Developers page from GitHub:"
   ]
  },
  {
   "cell_type": "code",
   "execution_count": 6,
   "metadata": {},
   "outputs": [],
   "source": [
    "# This is the url you will scrape in this exercise\n",
    "GITHUB_ROOT_URL = \"https://github.com\" # Asignamos a una variable la url root\n",
    "TRENDING_DEVELOPERS_URL = GITHUB_ROOT_URL + \"/trending/developers\" # Y asignamos a otra variable la navegación\n",
    "response = requests.get(TRENDING_DEVELOPERS_URL) # Obtebenemos la respuesta de la url\n",
    "\n",
    "soup = BeautifulSoup(response.text, \"html.parser\") # Parseamos a html la respuesta y la pasamos a texto\n",
    "\n"
   ]
  },
  {
   "cell_type": "code",
   "execution_count": 10,
   "metadata": {},
   "outputs": [
    {
     "name": "stdout",
     "output_type": "stream",
     "text": [
      "['rasbt (Sebastian Raschka)',\n",
      " 'microsoft (Microsoft)',\n",
      " 'jlevy (Joshua Levy)',\n",
      " 'jackfrued (骆昊)',\n",
      " 'imhuster (Aven Liu)',\n",
      " 'CarGuo (Shuyu Guo)',\n",
      " 'google (Google)',\n",
      " 'pipe-dream (Facebook)',\n",
      " 'facebook (GitHub)',\n",
      " 'github ( Thunder Bouble)',\n",
      " 'sfyc23 (The Apache Software Foundation)',\n",
      " 'SandboxEscaper (程序员吴师兄)',\n",
      " 'apache (NVIDIA Corporation)',\n",
      " 'tensorflow (Google AI Research)',\n",
      " 'MisterBooo (Mathieu Dutour)',\n",
      " 'NVIDIA (Sindre Sorhus)',\n",
      " 'google-research (Symfony)',\n",
      " 'mathieudutour (Linus Torvalds)',\n",
      " 'sindresorhus (Entropic)',\n",
      " 'symfony (Google Cloud Platform)',\n",
      " 'torvalds (vuejs)',\n",
      " 'entropic-dev (SnailClimb)',\n",
      " 'GoogleCloudPlatform 0',\n",
      " 'vuejs 0',\n",
      " 'Snailclimb 0']\n"
     ]
    }
   ],
   "source": [
    "# Grabamos en un archivo nuestra respuesta y generamos el html\n",
    "with open('github_trending_developers.html', \"w\") as github_trending_developers_file:\n",
    "    github_trending_developers_file.write(response.text) \n",
    "\n",
    "# Recogemos el objeto contenedor y lo almacenamos en una variable\n",
    "trending_developers_container = soup.find(\"ol\", {'class': \"list-style-none\"})\n",
    "# pprint(trending_developers_container)\n",
    "\n",
    "# Analizamos el html y buscamos los elementos que contengan la url del usuario o usuaria. \n",
    "# En este caso, el tag deseado no tenía ningún atributo o propiedad, por eso, lo más fácil es buscar que no tenga clase\n",
    "trending_developers_name = trending_developers_container.find_all(\"a\", {'class': \"\"})\n",
    "# Limpiamos la url relativa haciendo un split desde la barra de navegación y cogemos el último valor\n",
    "names_href = [name.get('href').split('/')[-1] for name in trending_developers_name]\n",
    "\n",
    "# pprint(names_href)\n",
    "# Para el nombre del usuario o usuaria recogemos el span que contiene el dato\n",
    "trending_human_name = trending_developers_container.find_all(\"span\", {'class': \"text-gray text-bold\"})\n",
    "human_name = [name.text for name in trending_human_name]\n",
    "# Utilizamos el método strip() para eliminar los carácteres del string que no aportan valor al resultado\n",
    "clean_human_name = [name.strip() for name in human_name]\n",
    "# pprint(clean_human_name)\n",
    "\n",
    "# Definimos una función que concatene los strings de los valores de un conjunto separados por un string vacío\n",
    "def concat(n):\n",
    "    return str(n[0]) + ' ' + str(n[1])\n",
    "\n",
    "# utilizamos el método zip_longest para hacer un zip entre las dos listas\n",
    "trending_developers = [concat(n) for n in zip_longest(names_href, clean_human_name, fillvalue=0)]\n",
    "pprint(trending_developers)"
   ]
  },
  {
   "cell_type": "markdown",
   "metadata": {},
   "source": [
    "#### Display the names of the trending developers retrieved in the previous step.\n",
    "\n",
    "Your output should be a Python list of developer names. Each name should not contain any html tag.\n",
    "\n",
    "**Instructions:**\n",
    "\n",
    "1. Find out the html tag and class names used for the developer names. You can achieve this using Chrome DevTools.\n",
    "\n",
    "1. Use BeautifulSoup to extract all the html elements that contain the developer names.\n",
    "\n",
    "1. Use string manipulation techniques to replace whitespaces and linebreaks (i.e. `\\n`) in the *text* of each html element. Use a list to store the clean names.\n",
    "\n",
    "1. Print the list of names.\n",
    "\n",
    "Your output should look like below:\n",
    "\n",
    "```\n",
    "['trimstray (@trimstray)',\n",
    " 'joewalnes (JoeWalnes)',\n",
    " 'charlax (Charles-AxelDein)',\n",
    " 'ForrestKnight (ForrestKnight)',\n",
    " 'revery-ui (revery-ui)',\n",
    " 'alibaba (Alibaba)',\n",
    " 'Microsoft (Microsoft)',\n",
    " 'github (GitHub)',\n",
    " 'facebook (Facebook)',\n",
    " 'boazsegev (Bo)',\n",
    " 'google (Google)',\n",
    " 'cloudfetch',\n",
    " 'sindresorhus (SindreSorhus)',\n",
    " 'tensorflow',\n",
    " 'apache (TheApacheSoftwareFoundation)',\n",
    " 'DevonCrawford (DevonCrawford)',\n",
    " 'ARMmbed (ArmMbed)',\n",
    " 'vuejs (vuejs)',\n",
    " 'fastai (fast.ai)',\n",
    " 'QiShaoXuan (Qi)',\n",
    " 'joelparkerhenderson (JoelParkerHenderson)',\n",
    " 'torvalds (LinusTorvalds)',\n",
    " 'CyC2018',\n",
    " 'komeiji-satori (神楽坂覚々)',\n",
    " 'script-8']\n",
    " ```"
   ]
  },
  {
   "cell_type": "code",
   "execution_count": null,
   "metadata": {},
   "outputs": [],
   "source": [
    "#your code"
   ]
  },
  {
   "cell_type": "markdown",
   "metadata": {},
   "source": [
    "#### Display the trending Python repositories in GitHub\n",
    "\n",
    "The steps to solve this problem is similar to the previous one except that you need to find out the repository names instead of developer names."
   ]
  },
  {
   "cell_type": "code",
   "execution_count": null,
   "metadata": {},
   "outputs": [],
   "source": [
    "# This is the url you will scrape in this exercise\n",
    "url = 'https://github.com/trending/python?since=daily'"
   ]
  },
  {
   "cell_type": "code",
   "execution_count": 12,
   "metadata": {},
   "outputs": [
    {
     "name": "stdout",
     "output_type": "stream",
     "text": [
      "['EverydayWechat (sfyc23 )',\n",
      " 'football (google-research )',\n",
      " 'Python (TheAlgorithms )',\n",
      " 'kedro (quantumblacklabs )',\n",
      " 'GPT2 (ConnorJL )',\n",
      " 'fair_self_supervision_benchmark (facebookresearch )',\n",
      " 'system-design-primer (donnemartin )',\n",
      " 'awesome-python (vinta )',\n",
      " 'train-departure-screen (chrishutchinson )',\n",
      " 'public-apis (public-apis )',\n",
      " 'pba (arcelien )',\n",
      " 'cpython (python )',\n",
      " 'AiLearning (apachecn )',\n",
      " 'models (tensorflow )',\n",
      " 'funNLP (fighting41love )',\n",
      " 'machine-learning-course (machinelearningmindset )',\n",
      " 'youtube-dl (ytdl-org )',\n",
      " 'keras (keras-team )',\n",
      " 'EfficientNet-PyTorch (lukemelas )',\n",
      " 'face_recognition (ageitgey )',\n",
      " 'Bitcoin-Trader-RL (notadamking )',\n",
      " 'poetry (sdispater )',\n",
      " 'CheatSheetSeries (OWASP )',\n",
      " 'PhoneInfoga (sundowndev )',\n",
      " 'flask (pallets )']\n"
     ]
    }
   ],
   "source": [
    "# Para este ejercicio hacemos el mismo proceso que en el anterior\n",
    "GITHUB_ROOT_URL = \"https://github.com\" # Asignamos a una variable la url root\n",
    "TRENDING_PYTHON_REPOS_URL = GITHUB_ROOT_URL + \"/trending/python?since=daily\" # Y asignamos a otra variable la navegación\n",
    "response = requests.get(TRENDING_PYTHON_REPOS_URL) # Obtebenemos la respuesta de la url\n",
    "\n",
    "soup = BeautifulSoup(response.text, \"html.parser\") # Parseamos la respuesta a html\n",
    "\n",
    "# Grabamos en un archivo nuestra respuesta y generamos el html\n",
    "with open('github_trending_python_repos.html', \"w\") as github_trending_python_repos_file:\n",
    "    github_trending_python_repos_file.write(response.text)\n",
    "\n",
    "# Recogemos el objeto contenedor y lo almacenamos en una variable\n",
    "trending_repos_container = soup.find(\"ol\", {'class': \"repo-list\"})\n",
    "# pprint(trending_developers_container)\n",
    "\n",
    "# Analizamos el html y buscamos los elementos que contengan la url del usuario o usuaria. \n",
    "# En este caso, el tag deseado no tenía ningún atributo o propiedad, por eso, lo más fácil es buscar que no tenga clase\n",
    "trending_repo_noun = trending_repos_container.find_all(\"a\", {'class': \"\"})\n",
    "noun_href = [noun.get('href').split('/')[-1] for noun in trending_repo_noun]\n",
    "# pprint(noun_href)\n",
    "\n",
    "# Aquí hemos buscado el span, aunque podríamos haber obtenido el resultado pedido desde el apartado anterior\n",
    "# Simplemente repitiendo la list comprehension de noun_href pero obteniendo el elemento [0]\n",
    "trending_repo_owner = trending_repos_container.find_all(\"span\", {'class': \"text-normal\"})\n",
    "owner = [name.text for name in trending_repo_owner]\n",
    "clean_user = [name.strip().split('/')[0] for name in owner]\n",
    "# pprint(clean_user)\n",
    "\n",
    "# Rehacemos la función anterior añadiendo préntesis\n",
    "def concat(n):\n",
    "    return str(n[0]) + ' ' + '(' + str(n[1] + ')')\n",
    "\n",
    "# Usamos el métoso zip_longest para hacer el zip entre las listas previas\n",
    "trending_repos = [concat(n) for n in zip_longest(noun_href, clean_user, fillvalue=0)]\n",
    "pprint(trending_repos)\n",
    "\n"
   ]
  },
  {
   "cell_type": "markdown",
   "metadata": {},
   "source": [
    "#### Display all the image links from Walt Disney wikipedia page"
   ]
  },
  {
   "cell_type": "code",
   "execution_count": null,
   "metadata": {},
   "outputs": [],
   "source": [
    "# This is the url you will scrape in this exercise\n",
    "url = 'https://en.wikipedia.org/wiki/Walt_Disney'"
   ]
  },
  {
   "cell_type": "code",
   "execution_count": null,
   "metadata": {},
   "outputs": [],
   "source": [
    "#your code"
   ]
  },
  {
   "cell_type": "markdown",
   "metadata": {},
   "source": [
    "#### Retrieve an arbitary Wikipedia page of \"Python\" and create a list of links on that page"
   ]
  },
  {
   "cell_type": "code",
   "execution_count": 13,
   "metadata": {},
   "outputs": [
    {
     "name": "stdout",
     "output_type": "stream",
     "text": [
      "['https://en.wikipedia.org/w/index.php?title=Python&action=edit&section=1',\n",
      " 'https://en.wikipedia.org/wiki/Pythonidae',\n",
      " 'https://en.wikipedia.org/wiki/Python_(genus)',\n",
      " 'https://en.wikipedia.org/w/index.php?title=Python&action=edit&section=2',\n",
      " 'https://en.wikipedia.org/wiki/Python_(mythology)',\n",
      " 'https://en.wikipedia.org/wiki/Python_of_Aenus',\n",
      " 'https://en.wikipedia.org/wiki/Python_(painter)',\n",
      " 'https://en.wikipedia.org/wiki/Python_of_Byzantium',\n",
      " 'https://en.wikipedia.org/wiki/Python_of_Catana',\n",
      " 'https://en.wikipedia.org/w/index.php?title=Python&action=edit&section=3',\n",
      " 'https://en.wikipedia.org/wiki/Python_(film)',\n",
      " 'https://en.wikipedia.org/wiki/Pythons_2',\n",
      " 'https://en.wikipedia.org/wiki/Monty_Python',\n",
      " 'https://en.wikipedia.org/wiki/Python_(Monty)_Pictures',\n",
      " 'https://en.wikipedia.org/w/index.php?title=Python&action=edit&section=4',\n",
      " 'https://en.wikipedia.org/wiki/Python_(programming_language)',\n",
      " 'https://en.wikipedia.org/wiki/CPython',\n",
      " 'https://en.wikipedia.org/wiki/CMU_Common_Lisp',\n",
      " 'https://en.wikipedia.org/wiki/PERQ#PERQ_3',\n",
      " 'https://en.wikipedia.org/w/index.php?title=Python&action=edit&section=5',\n",
      " 'https://en.wikipedia.org/w/index.php?title=Python&action=edit&section=6',\n",
      " 'https://en.wikipedia.org/wiki/Python_(Busch_Gardens_Tampa_Bay)',\n",
      " 'https://en.wikipedia.org/wiki/Python_(Coney_Island,_Cincinnati,_Ohio)',\n",
      " 'https://en.wikipedia.org/wiki/Python_(Efteling)',\n",
      " 'https://en.wikipedia.org/w/index.php?title=Python&action=edit&section=7',\n",
      " 'https://en.wikipedia.org/wiki/Python_(automobile_maker)',\n",
      " 'https://en.wikipedia.org/wiki/Python_(Ford_prototype)',\n",
      " 'https://en.wikipedia.org/w/index.php?title=Python&action=edit&section=8',\n",
      " 'https://en.wikipedia.org/wiki/Colt_Python',\n",
      " 'https://en.wikipedia.org/wiki/Python_(missile)',\n",
      " 'https://en.wikipedia.org/wiki/Python_(nuclear_primary)',\n",
      " 'https://en.wikipedia.org/w/index.php?title=Python&action=edit&section=9',\n",
      " 'https://en.wikipedia.org/wiki/Python_Anghelo',\n",
      " 'https://en.wikipedia.org/w/index.php?title=Python&action=edit&section=10',\n",
      " 'https://en.wikipedia.org/wiki/PYTHON',\n",
      " 'https://en.wikipedia.org/w/index.php?title=Python&action=edit&section=11',\n",
      " 'https://en.wikipedia.org/wiki/Cython',\n",
      " 'https://en.wikipedia.org/wiki/Pyton',\n",
      " 'https://en.wikipedia.org/wiki/Help:Disambiguation']\n"
     ]
    }
   ],
   "source": [
    "# This is the url you will scrape in this exercise\n",
    "url ='https://en.wikipedia.org/wiki/Python' \n",
    "ENGLISH_WIKIPEDIA_ROOT_URL  = \"https://en.wikipedia.org\"\n",
    "PYTHON_RELATIVE_URL = ENGLISH_WIKIPEDIA_ROOT_URL + \"/wiki/Python\"\n",
    "response = requests.get(PYTHON_RELATIVE_URL)\n",
    "\n",
    "soup = BeautifulSoup(response.text, \"html.parser\")\n",
    "\n",
    "with open('python_wiki.html', \"w\") as python_wiki_file:\n",
    "    python_wiki_file.write(response.text)\n",
    "\n",
    "python_content = soup.find(\"div\", {'class': \"mw-parser-output\"}) # Asignamos el contenedor en una variable\n",
    "wiki_links = python_content.find_all(\"a\", {'class': \"\"}) # Seleccionamos todos los hipervínculos\n",
    "# Seleccionamos aquellos que nos vayan a llevar a una navegación externa a la página\n",
    "python_href = [python.get('href') for python in wiki_links if python.get('href')[0] == '/'] \n",
    "\n",
    "# Definimos una función que, dando una una url relativa, devuelva una url completa\n",
    "def full_url(relative_url):\n",
    "    return ENGLISH_WIKIPEDIA_ROOT_URL + relative_url\n",
    "\n",
    "# Aplicamos la función full_url a los elementos de la lista python_href\n",
    "all_python_links = [full_url(python) for python in python_href]\n",
    "pprint(all_python_links)"
   ]
  },
  {
   "cell_type": "code",
   "execution_count": null,
   "metadata": {},
   "outputs": [],
   "source": [
    "#your code"
   ]
  },
  {
   "cell_type": "markdown",
   "metadata": {},
   "source": [
    "#### Number of Titles that have changed in the United States Code since its last release point "
   ]
  },
  {
   "cell_type": "code",
   "execution_count": null,
   "metadata": {},
   "outputs": [],
   "source": [
    "# This is the url you will scrape in this exercise\n",
    "url = 'http://uscode.house.gov/download/download.shtml'"
   ]
  },
  {
   "cell_type": "code",
   "execution_count": null,
   "metadata": {},
   "outputs": [],
   "source": [
    "#your code"
   ]
  },
  {
   "cell_type": "markdown",
   "metadata": {},
   "source": [
    "#### A Python list with the top ten FBI's Most Wanted names "
   ]
  },
  {
   "cell_type": "code",
   "execution_count": null,
   "metadata": {},
   "outputs": [],
   "source": [
    "# This is the url you will scrape in this exercise\n",
    "url = 'https://www.fbi.gov/wanted/topten'"
   ]
  },
  {
   "cell_type": "code",
   "execution_count": 14,
   "metadata": {},
   "outputs": [
    {
     "name": "stdout",
     "output_type": "stream",
     "text": [
      "['EUGENE PALMER',\n",
      " 'SANTIAGO VILLALBA MEDEROS',\n",
      " 'ROBERT WILLIAM FISHER',\n",
      " 'BHADRESHKUMAR CHETANBHAI PATEL',\n",
      " 'ARNOLDO JIMENEZ',\n",
      " 'ALEJANDRO ROSALES CASTILLO',\n",
      " 'YASER ABDEL SAID',\n",
      " 'JASON DEREK BROWN',\n",
      " 'RAFAEL CARO-QUINTERO',\n",
      " 'ALEXIS FLORES']\n"
     ]
    }
   ],
   "source": [
    "#your code \n",
    "FBI_ROOT_URL = \"https://www.fbi.gov\" \n",
    "TOP_TEN_WANTED_URL = FBI_ROOT_URL + \"/wanted/topten\"\n",
    "response = requests.get(TOP_TEN_WANTED_URL)\n",
    "\n",
    "soup = BeautifulSoup(response.text, \"html.parser\")\n",
    "\n",
    "with open('python_wiki.html', \"w\") as python_wiki_file:\n",
    "    python_wiki_file.write(response.text)\n",
    "\n",
    "wanted_content = soup.find(\"div\", {'class': \"query-results pat-pager\"}) # Asignamos el contenedor a una variable\n",
    "# pprint(wanted_content)\n",
    "wanted_images = wanted_content.find_all(\"img\", {'class': \"\"}) # Buscamos las imágenes, que tienen la info deseada\n",
    "# pprint(wanted_images)\n",
    "top_ten_wanted_names = [image.get('alt') for image in wanted_images] # Obtenemos el texto de alt que contiene los nombres\n",
    "\n",
    "pprint(top_ten_wanted_names)"
   ]
  },
  {
   "cell_type": "markdown",
   "metadata": {},
   "source": [
    "####  20 latest earthquakes info (date, time, latitude, longitude and region name) by the EMSC as a pandas dataframe"
   ]
  },
  {
   "cell_type": "code",
   "execution_count": null,
   "metadata": {},
   "outputs": [],
   "source": [
    "# This is the url you will scrape in this exercise\n",
    "url = 'https://www.emsc-csem.org/Earthquake/'"
   ]
  },
  {
   "cell_type": "code",
   "execution_count": null,
   "metadata": {},
   "outputs": [],
   "source": [
    "#your code"
   ]
  },
  {
   "cell_type": "markdown",
   "metadata": {},
   "source": [
    "#### Display the date, days, title, city, country of next 25 hackathon events as a Pandas dataframe table"
   ]
  },
  {
   "cell_type": "code",
   "execution_count": null,
   "metadata": {},
   "outputs": [],
   "source": [
    "# This is the url you will scrape in this exercise\n",
    "url ='https://hackevents.co/hackathons'"
   ]
  },
  {
   "cell_type": "code",
   "execution_count": null,
   "metadata": {},
   "outputs": [],
   "source": [
    "#your code"
   ]
  },
  {
   "cell_type": "markdown",
   "metadata": {},
   "source": [
    "#### Count number of tweets by a given Twitter account."
   ]
  },
  {
   "cell_type": "markdown",
   "metadata": {},
   "source": [
    "You will need to include a ***try/except block*** for account names not found. \n",
    "<br>***Hint:*** the program should count the number of tweets for any provided account"
   ]
  },
  {
   "cell_type": "code",
   "execution_count": null,
   "metadata": {},
   "outputs": [],
   "source": [
    "# This is the url you will scrape in this exercise \n",
    "# You will need to add the account credentials to this url\n",
    "url = 'https://twitter.com/'"
   ]
  },
  {
   "cell_type": "code",
   "execution_count": null,
   "metadata": {},
   "outputs": [],
   "source": [
    "#your code"
   ]
  },
  {
   "cell_type": "markdown",
   "metadata": {},
   "source": [
    "#### Number of followers of a given twitter account"
   ]
  },
  {
   "cell_type": "markdown",
   "metadata": {},
   "source": [
    "You will need to include a ***try/except block*** in case account/s name not found. \n",
    "<br>***Hint:*** the program should count the followers for any provided account"
   ]
  },
  {
   "cell_type": "code",
   "execution_count": null,
   "metadata": {},
   "outputs": [],
   "source": [
    "# This is the url you will scrape in this exercise \n",
    "# You will need to add the account credentials to this url\n",
    "url = 'https://twitter.com/'"
   ]
  },
  {
   "cell_type": "code",
   "execution_count": null,
   "metadata": {},
   "outputs": [],
   "source": [
    "#your code"
   ]
  },
  {
   "cell_type": "markdown",
   "metadata": {},
   "source": [
    "#### List all language names and number of related articles in the order they appear in wikipedia.org"
   ]
  },
  {
   "cell_type": "code",
   "execution_count": null,
   "metadata": {},
   "outputs": [],
   "source": [
    "# This is the url you will scrape in this exercise\n",
    "url = 'https://www.wikipedia.org/'"
   ]
  },
  {
   "cell_type": "code",
   "execution_count": null,
   "metadata": {},
   "outputs": [],
   "source": [
    "#your code"
   ]
  },
  {
   "cell_type": "markdown",
   "metadata": {},
   "source": [
    "#### A list with the different kind of datasets available in data.gov.uk "
   ]
  },
  {
   "cell_type": "code",
   "execution_count": null,
   "metadata": {},
   "outputs": [],
   "source": [
    "# This is the url you will scrape in this exercise\n",
    "url = 'https://data.gov.uk/'"
   ]
  },
  {
   "cell_type": "code",
   "execution_count": null,
   "metadata": {},
   "outputs": [],
   "source": [
    "#your code "
   ]
  },
  {
   "cell_type": "markdown",
   "metadata": {},
   "source": [
    "#### Top 10 languages by number of native speakers stored in a Pandas Dataframe"
   ]
  },
  {
   "cell_type": "code",
   "execution_count": null,
   "metadata": {},
   "outputs": [],
   "source": [
    "# This is the url you will scrape in this exercise\n",
    "url = 'https://en.wikipedia.org/wiki/List_of_languages_by_number_of_native_speakers'"
   ]
  },
  {
   "cell_type": "code",
   "execution_count": null,
   "metadata": {},
   "outputs": [],
   "source": [
    "#your code"
   ]
  },
  {
   "cell_type": "markdown",
   "metadata": {},
   "source": [
    "### BONUS QUESTIONS"
   ]
  },
  {
   "cell_type": "markdown",
   "metadata": {},
   "source": [
    "#### Scrape a certain number of tweets of a given Twitter account."
   ]
  },
  {
   "cell_type": "code",
   "execution_count": null,
   "metadata": {},
   "outputs": [],
   "source": [
    "# This is the url you will scrape in this exercise \n",
    "# You will need to add the account credentials to this url\n",
    "url = 'https://twitter.com/'"
   ]
  },
  {
   "cell_type": "code",
   "execution_count": null,
   "metadata": {},
   "outputs": [],
   "source": [
    "# your code"
   ]
  },
  {
   "cell_type": "markdown",
   "metadata": {},
   "source": [
    "#### IMDB's Top 250 data (movie name, Initial release, director name and stars) as a pandas dataframe"
   ]
  },
  {
   "cell_type": "code",
   "execution_count": null,
   "metadata": {},
   "outputs": [],
   "source": [
    "# This is the url you will scrape in this exercise \n",
    "url = 'https://www.imdb.com/chart/top'"
   ]
  },
  {
   "cell_type": "code",
   "execution_count": null,
   "metadata": {},
   "outputs": [],
   "source": [
    "# your code"
   ]
  },
  {
   "cell_type": "markdown",
   "metadata": {},
   "source": [
    "#### Movie name, year and a brief summary of the top 10 random movies (IMDB) as a pandas dataframe."
   ]
  },
  {
   "cell_type": "code",
   "execution_count": null,
   "metadata": {},
   "outputs": [],
   "source": [
    "#This is the url you will scrape in this exercise\n",
    "url = 'http://www.imdb.com/chart/top'"
   ]
  },
  {
   "cell_type": "code",
   "execution_count": null,
   "metadata": {},
   "outputs": [],
   "source": [
    "#your code"
   ]
  },
  {
   "cell_type": "markdown",
   "metadata": {},
   "source": [
    "#### Find the live weather report (temperature, wind speed, description and weather) of a given city."
   ]
  },
  {
   "cell_type": "code",
   "execution_count": null,
   "metadata": {},
   "outputs": [],
   "source": [
    "#https://openweathermap.org/current\n",
    "city = city=input('Enter the city:')\n",
    "url = 'http://api.openweathermap.org/data/2.5/weather?'+'q='+city+'&APPID=b35975e18dc93725acb092f7272cc6b8&units=metric'"
   ]
  },
  {
   "cell_type": "code",
   "execution_count": null,
   "metadata": {},
   "outputs": [],
   "source": [
    "# your code"
   ]
  },
  {
   "cell_type": "markdown",
   "metadata": {},
   "source": [
    "#### Book name,price and stock availability as a pandas dataframe."
   ]
  },
  {
   "cell_type": "code",
   "execution_count": null,
   "metadata": {},
   "outputs": [],
   "source": [
    "# This is the url you will scrape in this exercise. \n",
    "# It is a fictional bookstore created to be scraped. \n",
    "url = 'http://books.toscrape.com/'"
   ]
  },
  {
   "cell_type": "code",
   "execution_count": null,
   "metadata": {},
   "outputs": [],
   "source": [
    "#your code"
   ]
  }
 ],
 "metadata": {
  "kernelspec": {
   "display_name": "Python 3",
   "language": "python",
   "name": "python3"
  },
  "language_info": {
   "codemirror_mode": {
    "name": "ipython",
    "version": 3
   },
   "file_extension": ".py",
   "mimetype": "text/x-python",
   "name": "python",
   "nbconvert_exporter": "python",
   "pygments_lexer": "ipython3",
   "version": "3.7.3"
  }
 },
 "nbformat": 4,
 "nbformat_minor": 2
}
