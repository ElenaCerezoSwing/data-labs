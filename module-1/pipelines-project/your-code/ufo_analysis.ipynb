#%% md
# Importamos las librerías necesarias
#%%
import pandas as pd
import numpy
import matplotlib
from extractors import Extractor, CsvExtractor
from loaders import FileLoader, MySQLLoader
from transformers import CustomVehicleTransformer, NullFilterTransformer
from datetime import datetime
#%% md
# Leemos, extraemos datos y hacemos dos copias

#%%
data = pd.read_csv('ufo_sighting_data.csv')
df = pd.DataFrame(data)
ufo = data.copy()
ufo2 = data.copy()
#%% md
# Comprobamos valores nulos
#%%
ufo.isnull().sum()
#%% md
# Limpiamos la segunda copia de datos (ufo2)
#%%
ufo2 = ufo2.drop(ufo2[(ufo2['state/province'].isnull()) |
                      (ufo2['country'].isnull()) | 
                      (ufo2['UFO_shape'].isnull()) | 
                      (ufo2['description'].isnull()) ].index)
#%% md
# Nuestro estudio se va a centrar por una parte en las latitudes y por otra parte en los meses y en los años
#%% md
## Tratamiento de las fechas
#%%
def extractByIndexAndSeparator(df, col, separator, index):
    return [item.split(separator)[index] for item in df[col]]

def splitDataBySeparator(df, col, separator):
    return [item.split(separator) for item in df[col]]

def extractItemByIndex(df, col, index):
    return [item[index] for item in df[col]]
#%% md
### Obtenemos las fechas y las horas a partir de Date_time

#%%
ufo['Date'] = extractByIndexAndSeparator(ufo, 'Date_time', ' ', 0)
ufo['time'] = extractByIndexAndSeparator(ufo, 'Date_time' , ' ', 1)
ufo['Date'] = ufo['Date'].str.strip()

ufo2['Date'] = extractByIndexAndSeparator(ufo2, 'Date_time', ' ', 0)
ufo2['time'] = extractByIndexAndSeparator(ufo2, 'Date_time' , ' ', 1)
#%% md
### Obtenemos los meses y los años a partir de Date
#%%
ufo['months_aux'] = splitDataBySeparator(ufo,'Date', '/')
ufo['months'] = extractItemByIndex(ufo, 'months_aux', 0 )
ufo['years'] = extractItemByIndex(ufo, 'months_aux', 2 )
ufo2['months_aux'] = splitDataBySeparator(ufo2,'Date', '/')
ufo2['months']= extractItemByIndex(ufo2, 'months_aux', 0 )
ufo2['years'] = extractItemByIndex(ufo2, 'months_aux', 2 )

#%% md
## Tratamiento de las latitudes
#%%
ufo2['latitude'].nunique() == ufo['latitude'].nunique()
ufo2['latitude'].nunique()
ufo_removed_latitudes = [item for item in ufo['latitude'] if item not in ufo2['latitude']]
#clean_latitudes = [item.str.replace(('\w*'), '') for item in ufo['latitude']]
#ufo_removed_latitudes_to_int = [float(item) for item in ufo_removed_latitudes]
len(ufo_removed_latitudes)
ufo['latitude'].nunique()
removed_latitudes_length = len(ufo_removed_latitudes)
removed_latitudes_unique_length = len(set(ufo_removed_latitudes))
removed_latitudes_unique_length
ufo_removed_unique_latitudes = set(ufo_removed_latitudes)
ufo_removed_unique_latitudes
#%%
