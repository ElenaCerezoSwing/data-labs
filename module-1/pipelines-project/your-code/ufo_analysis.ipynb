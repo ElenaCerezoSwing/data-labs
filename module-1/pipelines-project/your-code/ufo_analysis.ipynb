{
 "cells": [
  {
   "cell_type": "markdown",
   "metadata": {},
   "source": [
    "# Importamos las librerías necesarias"
   ]
  },
  {
   "cell_type": "code",
   "execution_count": 52,
   "metadata": {},
   "outputs": [],
   "source": [
    "import pandas as pd\n",
    "import numpy\n",
    "import matplotlib\n",
    "from datetime import datetime\n",
    "import pprint"
   ]
  },
  {
   "cell_type": "markdown",
   "metadata": {},
   "source": [
    "# Leemos, extraemos datos y hacemos dos copias\n"
   ]
  },
  {
   "cell_type": "code",
   "execution_count": 53,
   "metadata": {},
   "outputs": [],
   "source": [
    "data = pd.read_csv('ufo_sighting_data.csv')\n",
    "df = pd.DataFrame(data)\n",
    "ufo = data.copy()\n",
    "ufo2 = data.copy()"
   ]
  },
  {
   "cell_type": "markdown",
   "metadata": {},
   "source": [
    "# Comprobamos valores nulos"
   ]
  },
  {
   "cell_type": "code",
   "execution_count": 11,
   "metadata": {},
   "outputs": [
    {
     "data": {
      "text/plain": [
       "Date_time                             0\n",
       "city                                  0\n",
       "state/province                     5797\n",
       "country                            9670\n",
       "UFO_shape                          1932\n",
       "length_of_encounter_seconds           0\n",
       "described_duration_of_encounter       0\n",
       "description                          15\n",
       "date_documented                       0\n",
       "latitude                              0\n",
       "longitude                             0\n",
       "dtype: int64"
      ]
     },
     "execution_count": 11,
     "metadata": {},
     "output_type": "execute_result"
    }
   ],
   "source": [
    "ufo.isnull().sum()"
   ]
  },
  {
   "cell_type": "markdown",
   "metadata": {},
   "source": [
    "# Limpiamos la segunda copia de datos (ufo2)"
   ]
  },
  {
   "cell_type": "code",
   "execution_count": 54,
   "metadata": {},
   "outputs": [],
   "source": [
    "ufo2 = ufo2.drop(ufo2[(ufo2['state/province'].isnull()) |\n",
    "                      (ufo2['country'].isnull()) | \n",
    "                      (ufo2['UFO_shape'].isnull()) | \n",
    "                      (ufo2['description'].isnull()) ].index)"
   ]
  },
  {
   "cell_type": "markdown",
   "metadata": {},
   "source": [
    "# Nuestro estudio se va a centrar por una parte en las latitudes y por otra parte en los meses y en los años\n"
   ]
  },
  {
   "cell_type": "markdown",
   "metadata": {},
   "source": [
    "## Tratamiento de las fechas"
   ]
  },
  {
   "cell_type": "markdown",
   "metadata": {},
   "source": [
    "## Funciones procedentes del refactor del análisis y que utilizaremos"
   ]
  },
  {
   "cell_type": "code",
   "execution_count": 55,
   "metadata": {},
   "outputs": [],
   "source": [
    "def applyToInt(df, col):\n",
    "    return [int(item) for item in df[col]]\n",
    "\n",
    "def extractByIndexAndSeparator(df, col, separator, index):\n",
    "    return [item.split(separator)[index] for item in df[col]]\n",
    "\n",
    "def splitDataBySeparator(df, col, separator):\n",
    "    return [item.split(separator) for item in df[col]]\n",
    "\n",
    "def extractItemByIndex(df, col, index):\n",
    "    return [item[index] for item in df[col]]\n",
    "\n",
    "def getFrequencies(df, col):\n",
    "    dictionary = {}\n",
    "    sorted_df_col = sorted(df[col])\n",
    "    unique_items = set(sorted_df_col)\n",
    "    for item in unique_items:\n",
    "        dictionary[item] = sorted_df_col.count(item)\n",
    "    \n",
    "    return dictionary"
   ]
  },
  {
   "cell_type": "markdown",
   "metadata": {},
   "source": [
    "### Obtenemos las fechas y las horas a partir de Date_time"
   ]
  },
  {
   "cell_type": "code",
   "execution_count": 56,
   "metadata": {},
   "outputs": [],
   "source": [
    "ufo['Date'] = extractByIndexAndSeparator(ufo, 'Date_time', ' ', 0)\n",
    "ufo['time'] = extractByIndexAndSeparator(ufo, 'Date_time' , ' ', 1)\n",
    "ufo['Date'] = ufo['Date'].str.strip()\n",
    "\n",
    "ufo2['Date'] = extractByIndexAndSeparator(ufo2, 'Date_time', ' ', 0)\n",
    "ufo2['time'] = extractByIndexAndSeparator(ufo2, 'Date_time' , ' ', 1)"
   ]
  },
  {
   "cell_type": "markdown",
   "metadata": {},
   "source": [
    "### Obtenemos los meses y los años a partir de Date"
   ]
  },
  {
   "cell_type": "code",
   "execution_count": 89,
   "metadata": {},
   "outputs": [],
   "source": [
    "ufo['months_aux'] = splitDataBySeparator(ufo,'Date', '/')\n",
    "ufo['months'] = extractItemByIndex(ufo, 'months_aux', 0 )\n",
    "ufo['years'] = extractItemByIndex(ufo, 'months_aux', 2 )\n",
    "ufo['years'] = applyToInt(ufo, 'years')\n",
    "annual_freq = getFrequencies(ufo, 'years')\n",
    "\n",
    "ufo2['months_aux'] = splitDataBySeparator(ufo2,'Date', '/')\n",
    "ufo2['months']= extractItemByIndex(ufo2, 'months_aux', 0 )\n",
    "ufo2['years'] = extractItemByIndex(ufo2, 'months_aux', 2 )\n",
    "ufo2['years'] = applyToInt(ufo2, 'years')\n",
    "annual_freq2 = getFrequencies(ufo2, 'years')\n",
    "\n"
   ]
  },
  {
   "cell_type": "markdown",
   "metadata": {},
   "source": [
    "## Tratamiento de las latitudes"
   ]
  },
  {
   "cell_type": "code",
   "execution_count": null,
   "metadata": {},
   "outputs": [],
   "source": [
    "ufo2['latitude'].nunique() == ufo['latitude'].nunique()\n",
    "ufo2['latitude'].nunique()\n",
    "ufo_removed_latitudes = [item for item in ufo['latitude'] if item not in ufo2['latitude']]\n",
    "#clean_latitudes = [item.str.replace(('\\w*'), '') for item in ufo['latitude']]\n",
    "#ufo_removed_latitudes_to_int = [float(item) for item in ufo_removed_latitudes]\n",
    "len(ufo_removed_latitudes)\n",
    "ufo['latitude'].nunique()\n",
    "removed_latitudes_length = len(ufo_removed_latitudes)\n",
    "removed_latitudes_unique_length = len(set(ufo_removed_latitudes))\n",
    "removed_latitudes_unique_length\n",
    "ufo_removed_unique_latitudes = set(ufo_removed_latitudes)\n",
    "ufo_removed_unique_latitudes"
   ]
  },
  {
   "cell_type": "code",
   "execution_count": null,
   "metadata": {},
   "outputs": [],
   "source": []
  }
 ],
 "metadata": {
  "kernelspec": {
   "display_name": "Python 3",
   "language": "python",
   "name": "python3"
  },
  "language_info": {
   "codemirror_mode": {
    "name": "ipython",
    "version": 3
   },
   "file_extension": ".py",
   "mimetype": "text/x-python",
   "name": "python",
   "nbconvert_exporter": "python",
   "pygments_lexer": "ipython3",
   "version": "3.7.3"
  }
 },
 "nbformat": 4,
 "nbformat_minor": 2
}
