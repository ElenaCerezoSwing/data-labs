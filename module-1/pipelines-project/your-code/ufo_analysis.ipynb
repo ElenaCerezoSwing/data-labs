{
 "cells": [
  {
   "cell_type": "markdown",
   "metadata": {},
   "source": [
    "# Importamos las librerías necesarias"
   ]
  },
  {
   "cell_type": "code",
   "execution_count": 52,
   "metadata": {},
   "outputs": [],
   "source": [
    "import pandas as pd\n",
    "import numpy\n",
    "import matplotlib\n",
    "from datetime import datetime\n",
    "import pprint"
   ]
  },
  {
   "cell_type": "markdown",
   "metadata": {},
   "source": [
    "# Leemos, extraemos datos y hacemos dos copias\n"
   ]
  },
  {
   "cell_type": "code",
   "execution_count": 53,
   "metadata": {},
   "outputs": [],
   "source": [
    "data = pd.read_csv('ufo_sighting_data.csv')\n",
    "df = pd.DataFrame(data)\n",
    "ufo = data.copy()\n",
    "ufo2 = data.copy()"
   ]
  },
  {
   "cell_type": "markdown",
   "metadata": {},
   "source": [
    "# Comprobamos valores nulos"
   ]
  },
  {
   "cell_type": "code",
   "execution_count": 11,
   "metadata": {},
   "outputs": [
    {
     "data": {
      "text/plain": [
       "Date_time                             0\n",
       "city                                  0\n",
       "state/province                     5797\n",
       "country                            9670\n",
       "UFO_shape                          1932\n",
       "length_of_encounter_seconds           0\n",
       "described_duration_of_encounter       0\n",
       "description                          15\n",
       "date_documented                       0\n",
       "latitude                              0\n",
       "longitude                             0\n",
       "dtype: int64"
      ]
     },
     "execution_count": 11,
     "metadata": {},
     "output_type": "execute_result"
    }
   ],
   "source": [
    "ufo.isnull().sum()"
   ]
  },
  {
   "cell_type": "markdown",
   "metadata": {},
   "source": [
    "# Limpiamos la segunda copia de datos (ufo2)"
   ]
  },
  {
   "cell_type": "code",
   "execution_count": 54,
   "metadata": {},
   "outputs": [],
   "source": [
    "ufo2 = ufo2.drop(ufo2[(ufo2['state/province'].isnull()) |\n",
    "                      (ufo2['country'].isnull()) | \n",
    "                      (ufo2['UFO_shape'].isnull()) | \n",
    "                      (ufo2['description'].isnull()) ].index)"
   ]
  },
  {
   "cell_type": "markdown",
   "metadata": {},
   "source": [
    "# Nuestro estudio se va a centrar por una parte en las latitudes y por otra parte en los meses y en los años\n"
   ]
  },
  {
   "cell_type": "markdown",
   "metadata": {},
   "source": [
    "## Tratamiento de las fechas"
   ]
  },
  {
   "cell_type": "markdown",
   "metadata": {},
   "source": [
    "## Funciones procedentes del refactor del análisis y que utilizaremos"
   ]
  },
  {
   "cell_type": "code",
   "execution_count": 122,
   "metadata": {},
   "outputs": [],
   "source": [
    "def applyToInt(df, col):\n",
    "    return [int(item) for item in df[col]]\n",
    "\n",
    "def applyToFloat(df, col):\n",
    "    return [float(item) for item in df[col]]\n",
    "\n",
    "def converItemNumberType(df, col, typ):\n",
    "    return [typ(item) for item in df[col]]\n",
    "\n",
    "def extractByIndexAndSeparator(df, col, separator, index):\n",
    "    return [item.split(separator)[index] for item in df[col]]\n",
    "\n",
    "def splitDataBySeparator(df, col, separator):\n",
    "    return [item.split(separator) for item in df[col]]\n",
    "\n",
    "def extractItemByIndex(df, col, index):\n",
    "    return [item[index] for item in df[col]]\n",
    "\n",
    "def getFrequencies(df, col):\n",
    "    dictionary = {}\n",
    "    sorted_df_col = sorted(df[col])\n",
    "    unique_items = set(sorted_df_col)\n",
    "    for item in unique_items:\n",
    "        dictionary[item] = sorted_df_col.count(item)\n",
    "    \n",
    "    return dictionary"
   ]
  },
  {
   "cell_type": "markdown",
   "metadata": {},
   "source": [
    "### Obtenemos las fechas y las horas a partir de Date_time"
   ]
  },
  {
   "cell_type": "code",
   "execution_count": 56,
   "metadata": {},
   "outputs": [],
   "source": [
    "ufo['Date'] = extractByIndexAndSeparator(ufo, 'Date_time', ' ', 0)\n",
    "ufo['time'] = extractByIndexAndSeparator(ufo, 'Date_time' , ' ', 1)\n",
    "ufo['Date'] = ufo['Date'].str.strip()\n",
    "\n",
    "ufo2['Date'] = extractByIndexAndSeparator(ufo2, 'Date_time', ' ', 0)\n",
    "ufo2['time'] = extractByIndexAndSeparator(ufo2, 'Date_time' , ' ', 1)"
   ]
  },
  {
   "cell_type": "markdown",
   "metadata": {},
   "source": [
    "### Obtenemos los meses y los años a partir de Date"
   ]
  },
  {
   "cell_type": "code",
   "execution_count": 123,
   "metadata": {},
   "outputs": [
    {
     "data": {
      "text/plain": [
       "0        1949\n",
       "3        1956\n",
       "4        1960\n",
       "5        1961\n",
       "7        1965\n",
       "8        1966\n",
       "9        1966\n",
       "10       1968\n",
       "11       1968\n",
       "12       1970\n",
       "13       1970\n",
       "14       1971\n",
       "15       1972\n",
       "16       1972\n",
       "17       1973\n",
       "19       1974\n",
       "21       1974\n",
       "22       1975\n",
       "23       1976\n",
       "25       1977\n",
       "26       1977\n",
       "27       1978\n",
       "28       1979\n",
       "30       1979\n",
       "31       1979\n",
       "32       1980\n",
       "33       1980\n",
       "34       1980\n",
       "36       1984\n",
       "37       1984\n",
       "         ... \n",
       "80299    2012\n",
       "80300    2012\n",
       "80301    2012\n",
       "80302    2012\n",
       "80303    2012\n",
       "80304    2012\n",
       "80305    2012\n",
       "80306    2012\n",
       "80307    2012\n",
       "80308    2012\n",
       "80309    2012\n",
       "80310    2012\n",
       "80311    2012\n",
       "80312    2012\n",
       "80313    2013\n",
       "80314    2013\n",
       "80315    2013\n",
       "80316    2013\n",
       "80317    2013\n",
       "80318    2013\n",
       "80320    2013\n",
       "80321    2013\n",
       "80323    2013\n",
       "80325    2013\n",
       "80326    2013\n",
       "80327    2013\n",
       "80328    2013\n",
       "80329    2013\n",
       "80330    2013\n",
       "80331    2013\n",
       "Name: years, Length: 66516, dtype: int64"
      ]
     },
     "execution_count": 123,
     "metadata": {},
     "output_type": "execute_result"
    }
   ],
   "source": [
    "ufo['months_aux'] = splitDataBySeparator(ufo,'Date', '/')\n",
    "ufo['months'] = extractItemByIndex(ufo, 'months_aux', 0 )\n",
    "ufo['years'] = extractItemByIndex(ufo, 'months_aux', 2 )\n",
    "ufo['years'] = applyToInt(ufo, 'years')\n",
    "annual_freq = getFrequencies(ufo, 'years')\n",
    "\n",
    "ufo2['months_aux'] = splitDataBySeparator(ufo2,'Date', '/')\n",
    "ufo2['months']= extractItemByIndex(ufo2, 'months_aux', 0 )\n",
    "ufo2['years'] = extractItemByIndex(ufo2, 'months_aux', 2 )\n",
    "ufo2['years'] = applyToInt(ufo2, 'years')\n",
    "ufo2['years'] = converItemNumberType(ufo2, 'years', int)\n",
    "\n",
    "annual_freq2 = getFrequencies(ufo2, 'years')\n",
    "ufo2.count()\n"
   ]
  },
  {
   "cell_type": "markdown",
   "metadata": {},
   "source": [
    "## Tratamiento de las latitudes"
   ]
  },
  {
   "cell_type": "code",
   "execution_count": 124,
   "metadata": {},
   "outputs": [
    {
     "ename": "ValueError",
     "evalue": "could not convert string to float: '33q.200088'",
     "output_type": "error",
     "traceback": [
      "\u001b[0;31m---------------------------------------------------------------------------\u001b[0m",
      "\u001b[0;31mValueError\u001b[0m                                Traceback (most recent call last)",
      "\u001b[0;32m<ipython-input-124-52c01a4f440e>\u001b[0m in \u001b[0;36m<module>\u001b[0;34m\u001b[0m\n\u001b[1;32m     11\u001b[0m \u001b[0mufo_removed_unique_latitudes\u001b[0m \u001b[0;34m=\u001b[0m \u001b[0mset\u001b[0m\u001b[0;34m(\u001b[0m\u001b[0mufo_removed_latitudes\u001b[0m\u001b[0;34m)\u001b[0m\u001b[0;34m\u001b[0m\u001b[0;34m\u001b[0m\u001b[0m\n\u001b[1;32m     12\u001b[0m \u001b[0mufo_removed_unique_latitudes\u001b[0m\u001b[0;34m\u001b[0m\u001b[0;34m\u001b[0m\u001b[0m\n\u001b[0;32m---> 13\u001b[0;31m \u001b[0mufo\u001b[0m\u001b[0;34m[\u001b[0m\u001b[0;34m'latitude'\u001b[0m\u001b[0;34m]\u001b[0m \u001b[0;34m=\u001b[0m \u001b[0mconverItemNumberType\u001b[0m\u001b[0;34m(\u001b[0m\u001b[0mufo\u001b[0m\u001b[0;34m,\u001b[0m \u001b[0;34m'latitude'\u001b[0m\u001b[0;34m,\u001b[0m \u001b[0mfloat\u001b[0m\u001b[0;34m)\u001b[0m\u001b[0;34m\u001b[0m\u001b[0;34m\u001b[0m\u001b[0m\n\u001b[0m\u001b[1;32m     14\u001b[0m \u001b[0mlat_int\u001b[0m \u001b[0;34m=\u001b[0m \u001b[0mapplyToFloat\u001b[0m\u001b[0;34m(\u001b[0m\u001b[0mufo2\u001b[0m\u001b[0;34m,\u001b[0m \u001b[0;34m'latitude'\u001b[0m\u001b[0;34m)\u001b[0m\u001b[0;34m\u001b[0m\u001b[0;34m\u001b[0m\u001b[0m\n\u001b[1;32m     15\u001b[0m \u001b[0;31m#lat_int_dict = getFrequencies(ufo, 'latitude')\u001b[0m\u001b[0;34m\u001b[0m\u001b[0;34m\u001b[0m\u001b[0;34m\u001b[0m\u001b[0m\n",
      "\u001b[0;32m<ipython-input-122-0c9fec51876d>\u001b[0m in \u001b[0;36mconverItemNumberType\u001b[0;34m(df, col, typ)\u001b[0m\n\u001b[1;32m      6\u001b[0m \u001b[0;34m\u001b[0m\u001b[0m\n\u001b[1;32m      7\u001b[0m \u001b[0;32mdef\u001b[0m \u001b[0mconverItemNumberType\u001b[0m\u001b[0;34m(\u001b[0m\u001b[0mdf\u001b[0m\u001b[0;34m,\u001b[0m \u001b[0mcol\u001b[0m\u001b[0;34m,\u001b[0m \u001b[0mtyp\u001b[0m\u001b[0;34m)\u001b[0m\u001b[0;34m:\u001b[0m\u001b[0;34m\u001b[0m\u001b[0;34m\u001b[0m\u001b[0m\n\u001b[0;32m----> 8\u001b[0;31m     \u001b[0;32mreturn\u001b[0m \u001b[0;34m[\u001b[0m\u001b[0mtyp\u001b[0m\u001b[0;34m(\u001b[0m\u001b[0mitem\u001b[0m\u001b[0;34m)\u001b[0m \u001b[0;32mfor\u001b[0m \u001b[0mitem\u001b[0m \u001b[0;32min\u001b[0m \u001b[0mdf\u001b[0m\u001b[0;34m[\u001b[0m\u001b[0mcol\u001b[0m\u001b[0;34m]\u001b[0m\u001b[0;34m]\u001b[0m\u001b[0;34m\u001b[0m\u001b[0;34m\u001b[0m\u001b[0m\n\u001b[0m\u001b[1;32m      9\u001b[0m \u001b[0;34m\u001b[0m\u001b[0m\n\u001b[1;32m     10\u001b[0m \u001b[0;32mdef\u001b[0m \u001b[0mextractByIndexAndSeparator\u001b[0m\u001b[0;34m(\u001b[0m\u001b[0mdf\u001b[0m\u001b[0;34m,\u001b[0m \u001b[0mcol\u001b[0m\u001b[0;34m,\u001b[0m \u001b[0mseparator\u001b[0m\u001b[0;34m,\u001b[0m \u001b[0mindex\u001b[0m\u001b[0;34m)\u001b[0m\u001b[0;34m:\u001b[0m\u001b[0;34m\u001b[0m\u001b[0;34m\u001b[0m\u001b[0m\n",
      "\u001b[0;32m<ipython-input-122-0c9fec51876d>\u001b[0m in \u001b[0;36m<listcomp>\u001b[0;34m(.0)\u001b[0m\n\u001b[1;32m      6\u001b[0m \u001b[0;34m\u001b[0m\u001b[0m\n\u001b[1;32m      7\u001b[0m \u001b[0;32mdef\u001b[0m \u001b[0mconverItemNumberType\u001b[0m\u001b[0;34m(\u001b[0m\u001b[0mdf\u001b[0m\u001b[0;34m,\u001b[0m \u001b[0mcol\u001b[0m\u001b[0;34m,\u001b[0m \u001b[0mtyp\u001b[0m\u001b[0;34m)\u001b[0m\u001b[0;34m:\u001b[0m\u001b[0;34m\u001b[0m\u001b[0;34m\u001b[0m\u001b[0m\n\u001b[0;32m----> 8\u001b[0;31m     \u001b[0;32mreturn\u001b[0m \u001b[0;34m[\u001b[0m\u001b[0mtyp\u001b[0m\u001b[0;34m(\u001b[0m\u001b[0mitem\u001b[0m\u001b[0;34m)\u001b[0m \u001b[0;32mfor\u001b[0m \u001b[0mitem\u001b[0m \u001b[0;32min\u001b[0m \u001b[0mdf\u001b[0m\u001b[0;34m[\u001b[0m\u001b[0mcol\u001b[0m\u001b[0;34m]\u001b[0m\u001b[0;34m]\u001b[0m\u001b[0;34m\u001b[0m\u001b[0;34m\u001b[0m\u001b[0m\n\u001b[0m\u001b[1;32m      9\u001b[0m \u001b[0;34m\u001b[0m\u001b[0m\n\u001b[1;32m     10\u001b[0m \u001b[0;32mdef\u001b[0m \u001b[0mextractByIndexAndSeparator\u001b[0m\u001b[0;34m(\u001b[0m\u001b[0mdf\u001b[0m\u001b[0;34m,\u001b[0m \u001b[0mcol\u001b[0m\u001b[0;34m,\u001b[0m \u001b[0mseparator\u001b[0m\u001b[0;34m,\u001b[0m \u001b[0mindex\u001b[0m\u001b[0;34m)\u001b[0m\u001b[0;34m:\u001b[0m\u001b[0;34m\u001b[0m\u001b[0;34m\u001b[0m\u001b[0m\n",
      "\u001b[0;31mValueError\u001b[0m: could not convert string to float: '33q.200088'"
     ]
    }
   ],
   "source": [
    "ufo2['latitude'].nunique() == ufo['latitude'].nunique()\n",
    "ufo2['latitude'].nunique()\n",
    "ufo_removed_latitudes = [item for item in ufo['latitude'] if item not in ufo2['latitude']]\n",
    "#clean_latitudes = [item.str.replace(('\\w*'), '') for item in ufo['latitude']]\n",
    "#ufo_removed_latitudes_to_int = [float(item) for item in ufo_removed_latitudes]\n",
    "len(ufo_removed_latitudes)\n",
    "ufo['latitude'].nunique()\n",
    "removed_latitudes_length = len(ufo_removed_latitudes)\n",
    "removed_latitudes_unique_length = len(set(ufo_removed_latitudes))\n",
    "removed_latitudes_unique_length\n",
    "ufo_removed_unique_latitudes = set(ufo_removed_latitudes)\n",
    "ufo_removed_unique_latitudes\n",
    "ufo['latitude'] = converItemNumberType(ufo, 'latitude', float)\n",
    "lat_int = applyToFloat(ufo2, 'latitude')\n",
    "#lat_int_dict = getFrequencies(ufo, 'latitude')\n",
    "so = sorted(lat_int)\n",
    "ufo['latitude']"
   ]
  },
  {
   "cell_type": "code",
   "execution_count": null,
   "metadata": {},
   "outputs": [],
   "source": []
  }
 ],
 "metadata": {
  "kernelspec": {
   "display_name": "Python 3",
   "language": "python",
   "name": "python3"
  },
  "language_info": {
   "codemirror_mode": {
    "name": "ipython",
    "version": 3
   },
   "file_extension": ".py",
   "mimetype": "text/x-python",
   "name": "python",
   "nbconvert_exporter": "python",
   "pygments_lexer": "ipython3",
   "version": "3.7.3"
  }
 },
 "nbformat": 4,
 "nbformat_minor": 2
}
